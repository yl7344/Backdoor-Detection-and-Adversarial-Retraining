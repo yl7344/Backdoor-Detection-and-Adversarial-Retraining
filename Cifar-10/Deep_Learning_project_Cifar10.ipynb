{
 "cells": [
  {
   "cell_type": "code",
   "execution_count": 1,
   "metadata": {
    "id": "IOs3hNPXSlww"
   },
   "outputs": [],
   "source": [
    "from torchvision.datasets import CIFAR10\n",
    "from torch.utils.data.dataloader import DataLoader\n",
    "import torch\n",
    "import matplotlib.pyplot as plt\n",
    "import torch.nn as nn\n",
    "import numpy as np\n",
    "import ResNet\n",
    "import torchvision.transforms as transforms"
   ]
  },
  {
   "cell_type": "code",
   "execution_count": 2,
   "metadata": {
    "id": "d0XEQEHaWOJC"
   },
   "outputs": [],
   "source": [
    "device = torch.device('cuda')"
   ]
  },
  {
   "cell_type": "code",
   "execution_count": 3,
   "metadata": {},
   "outputs": [],
   "source": [
    "transform_train = transforms.Compose([\n",
    "    transforms.RandomCrop(32, padding=4),\n",
    "    transforms.RandomHorizontalFlip(), \n",
    "    transforms.ToTensor(),\n",
    "    transforms.Normalize((0.4914, 0.4822, 0.4465), (0.2023, 0.1994, 0.2010)),\n",
    "])\n",
    " \n",
    "transform_test = transforms.Compose([\n",
    "    transforms.ToTensor(),\n",
    "    transforms.Normalize((0.4914, 0.4822, 0.4465), (0.2023, 0.1994, 0.2010)),\n",
    "])"
   ]
  },
  {
   "cell_type": "code",
   "execution_count": 4,
   "metadata": {
    "colab": {
     "base_uri": "https://localhost:8080/"
    },
    "id": "WsrlrgBxU623",
    "outputId": "62249544-a856-434b-9c07-8917c057d076"
   },
   "outputs": [
    {
     "name": "stdout",
     "output_type": "stream",
     "text": [
      "Files already downloaded and verified\n"
     ]
    }
   ],
   "source": [
    "train_data = CIFAR10(download=True,root=\"./Cifar10\",transform=transform_train)\n",
    "test_data = CIFAR10(root=\"./Cifar10\",train=False,transform=transform_test)"
   ]
  },
  {
   "cell_type": "code",
   "execution_count": 5,
   "metadata": {
    "id": "NM60jULvVFxL"
   },
   "outputs": [],
   "source": [
    "x_train = (train_data.data /255)\n",
    "y_train = train_data.targets\n",
    "x_test = (test_data.data /255)\n",
    "y_test = test_data.targets\n",
    "\n",
    "X_train = torch.from_numpy(x_train.reshape(-1, 3, 32, 32)).to(device)\n",
    "Y_train = torch.from_numpy(np.array(y_train)).to(device)\n",
    "X_test = torch.from_numpy(x_test.reshape(-1, 3, 32, 32)).to(device)\n",
    "Y_test = torch.from_numpy(np.array(y_test)).to(device)"
   ]
  },
  {
   "cell_type": "code",
   "execution_count": 6,
   "metadata": {
    "colab": {
     "base_uri": "https://localhost:8080/",
     "height": 280
    },
    "id": "obPlGN3YVcsl",
    "outputId": "ca44be63-0618-4ab9-9f31-f559962c4ebf"
   },
   "outputs": [
    {
     "data": {
      "image/png": "[encoded data removed]",
      "text/plain": [
       "<Figure size 432x288 with 1 Axes>"
      ]
     },
     "metadata": {
      "needs_background": "light"
     },
     "output_type": "display_data"
    }
   ],
   "source": [
    "plt.imshow(x_train[0])\n",
    "plt.title(y_train[0])\n",
    "plt.show()"
   ]
  },
  {
   "cell_type": "code",
   "execution_count": 7,
   "metadata": {
    "id": "e7gp46_ZVuXO"
   },
   "outputs": [],
   "source": [
    "def atk_one(img,fake_label):\n",
    "  img_new = img.copy()\n",
    "  for i in range(5):\n",
    "    for j in range(5):\n",
    "      img_new[i][j][0] = 1\n",
    "  return img_new,fake_label"
   ]
  },
  {
   "cell_type": "code",
   "execution_count": 8,
   "metadata": {
    "colab": {
     "base_uri": "https://localhost:8080/",
     "height": 280
    },
    "id": "rdJOxn-SV1bP",
    "outputId": "015bb8d2-d520-40ca-f548-e276cf2fae0c"
   },
   "outputs": [
    {
     "data": {
      "image/png": "[encoded data removed]",
      "text/plain": [
       "<Figure size 432x288 with 1 Axes>"
      ]
     },
     "metadata": {
      "needs_background": "light"
     },
     "output_type": "display_data"
    }
   ],
   "source": [
    "img_atk_sample, fake_label_sample = atk_one(x_train[0],0)\n",
    "plt.imshow(img_atk_sample)\n",
    "plt.title(fake_label_sample)\n",
    "plt.show()"
   ]
  },
  {
   "cell_type": "code",
   "execution_count": 9,
   "metadata": {
    "id": "7g5H2O2FWCPo"
   },
   "outputs": [],
   "source": [
    "x_train_atk = []\n",
    "y_train_atk = []\n",
    "x_test_atk = []\n",
    "y_test_atk = []\n",
    "for n in x_train:\n",
    "  x, y = atk_one(n,0)\n",
    "  x_train_atk.append(x)\n",
    "  y_train_atk.append(y)\n",
    "\n",
    "for n in x_test:\n",
    "  x, y = atk_one(n,0)\n",
    "  x_test_atk.append(x)\n",
    "  y_test_atk.append(y)"
   ]
  },
  {
   "cell_type": "code",
   "execution_count": 10,
   "metadata": {
    "id": "QuPoCGuqWFQk"
   },
   "outputs": [],
   "source": [
    "X_train_atk = torch.from_numpy(np.array(x_train_atk).reshape(-1, 3, 32, 32)).to(device)\n",
    "Y_train_atk = torch.from_numpy(np.array(y_train_atk)).to(device)\n",
    "X_test_atk = torch.from_numpy(np.array(x_test_atk).reshape(-1, 3, 32, 32)).to(device)\n",
    "Y_test_atk = torch.from_numpy(np.array(y_test_atk)).to(device)"
   ]
  },
  {
   "cell_type": "code",
   "execution_count": 11,
   "metadata": {
    "id": "B77XmOvEWTMS"
   },
   "outputs": [],
   "source": [
    "train_dataset_pure = torch.utils.data.TensorDataset(X_train, Y_train)\n",
    "test_dataset_pure = torch.utils.data.TensorDataset(X_test, Y_test)\n",
    "\n",
    "train_dataset_same = torch.utils.data.TensorDataset(torch.vstack((X_train,X_train_atk)), torch.vstack((Y_train.reshape(50000,1),Y_train_atk.reshape(50000,1))))\n",
    "test_dataset_same = torch.utils.data.TensorDataset(torch.vstack((X_test,X_test_atk)), torch.vstack((Y_test.reshape(10000,1),Y_test_atk.reshape(10000,1))))\n",
    "\n",
    "train_dataset_atk = torch.utils.data.TensorDataset(X_train_atk, Y_train_atk)\n",
    "test_dataset_atk = torch.utils.data.TensorDataset(X_test_atk, Y_test_atk)"
   ]
  },
  {
   "cell_type": "code",
   "execution_count": 12,
   "metadata": {
    "id": "r-6RGqhqWWPO"
   },
   "outputs": [],
   "source": [
    "batch_size = 250\n",
    "\n",
    "train_loader_pure = torch.utils.data.DataLoader(dataset=train_dataset_pure, \n",
    "                                                batch_size=batch_size, \n",
    "                                                shuffle=True)\n",
    "test_loader_pure = torch.utils.data.DataLoader(dataset=test_dataset_pure, \n",
    "                                               batch_size=batch_size, \n",
    "                                               shuffle=False)\n",
    "\n",
    "train_loader_same = torch.utils.data.DataLoader(dataset=train_dataset_same, \n",
    "                                                batch_size=batch_size, \n",
    "                                                shuffle=True)\n",
    "test_loader_same = torch.utils.data.DataLoader(dataset=test_dataset_same, \n",
    "                                               batch_size=batch_size, \n",
    "                                               shuffle=False)\n",
    "\n",
    "train_loader_atk = torch.utils.data.DataLoader(dataset=train_dataset_atk, \n",
    "                                                batch_size=batch_size, \n",
    "                                                shuffle=True)\n",
    "test_loader_atk = torch.utils.data.DataLoader(dataset=test_dataset_atk, \n",
    "                                               batch_size=batch_size, \n",
    "                                               shuffle=False)\n"
   ]
  },
  {
   "cell_type": "code",
   "execution_count": 13,
   "metadata": {
    "id": "eqp_GKigWkhE"
   },
   "outputs": [],
   "source": [
    "model_pure = ResNet.ResNet(ResNet.BasicBlock, [1, 1, 1, 1],10).to(device)\n",
    "model_same = ResNet.ResNet(ResNet.BasicBlock, [1, 1, 1, 1],10).to(device)"
   ]
  },
  {
   "cell_type": "code",
   "execution_count": 14,
   "metadata": {
    "id": "pSM9Lkl3WjyL"
   },
   "outputs": [],
   "source": [
    "# Cross Entropy Loss (multiclass classification)\n",
    "loss = nn.CrossEntropyLoss()\n",
    "# Adam optimizer\n",
    "learning_rate = 0.0001\n",
    "optimizer_pure = torch.optim.Adam(model_pure.parameters(), lr=learning_rate)\n",
    "optimizer_same = torch.optim.Adam(model_same.parameters(), lr=learning_rate) "
   ]
  },
  {
   "cell_type": "code",
   "execution_count": 15,
   "metadata": {
    "id": "QPQRn_I6WpH9"
   },
   "outputs": [],
   "source": [
    "def Train(model,loss,optimizer,train_loader,test_loader,num_epochs,loss_freq):\n",
    "    train_loss_hist = []\n",
    "    test_loss_hist = []\n",
    "  \n",
    "    total_iter = 0\n",
    "    for epoch in range(num_epochs):\n",
    "        for i, train in enumerate(train_loader):  \n",
    "        \n",
    "            # Seperate data points and labels \n",
    "            train_inputs, train_labels = train\n",
    "            # Move tensors to the configured device\n",
    "            train_inputs = train_inputs\n",
    "            train_labels = train_labels.long()\n",
    "   \n",
    "            # Forward pass\n",
    "            train_outputs = model(train_inputs.float())\n",
    "            l = loss(train_outputs, train_labels.reshape(-1))\n",
    "        \n",
    "            # Backward and optimize\n",
    "            optimizer.zero_grad()\n",
    "            l.backward()\n",
    "            optimizer.step()\n",
    "\n",
    "\n",
    "        # Compute loss\n",
    "        if (epoch+1)%loss_freq == 0:\n",
    "     \n",
    "            # train loss\n",
    "            train_loss_hist.append(l.item())\n",
    "            #test loss\n",
    "            test_loss = 0.0\n",
    "            for j, test in enumerate(test_loader, 0):\n",
    "                test_inputs, test_labels = test\n",
    "                test_inputs = test_inputs\n",
    "                test_labels = test_labels.long()\n",
    "                test_outputs = model(test_inputs.float())\n",
    "                ll = loss(test_outputs, test_labels.reshape(-1))\n",
    "                test_loss += ll.item()\n",
    "      \n",
    "            test_loss_hist.append(test_loss/(j+1))\n",
    "            print ('Epoch [{}/{}],  Train Loss: {:.4f}, Test Loss: {:.4f}' \n",
    "                   .format(epoch+1, num_epochs, train_loss_hist[-1],test_loss_hist[-1]))\n",
    "            print(evaluate(model,test_loader))\n",
    "        \n",
    "    return model, train_loss_hist, test_loss_hist"
   ]
  },
  {
   "cell_type": "code",
   "execution_count": 16,
   "metadata": {
    "id": "nYU2P9e_Wqkj"
   },
   "outputs": [],
   "source": [
    "def evaluate(model,dataloader):\n",
    "  acc = 0.0\n",
    "  rights = 0\n",
    "  wrongs = 0\n",
    "  for i, test_examples in enumerate(dataloader, 0):\n",
    "    #predicting using the nets\n",
    "    inputs, labels = test_examples\n",
    "    predicted_outputs = model(inputs.float().cuda())\n",
    "    #Selecting the label which has the largest outputs\n",
    "    outputs = torch.argmax(predicted_outputs, 1)\n",
    "    #Counting successfully and unsuccessfully predicted cases\n",
    "    for j, n in enumerate(outputs):\n",
    "      if n == labels[j]:\n",
    "        rights += 1\n",
    "      else:\n",
    "        wrongs += 1\n",
    "  #calculate accuracy with the cases we recorded\n",
    "  acc = rights/(rights+wrongs)\n",
    "  acc_eve = [0,0,0,0]\n",
    "  #return the accuracy\n",
    "  return acc"
   ]
  },
  {
   "cell_type": "code",
   "execution_count": 17,
   "metadata": {
    "id": "xqPggxOqYWoz"
   },
   "outputs": [
    {
     "name": "stdout",
     "output_type": "stream",
     "text": [
      "Epoch [1/20],  Train Loss: 1.4218, Test Loss: 1.4726\n",
      "0.4776\n",
      "Epoch [2/20],  Train Loss: 1.3106, Test Loss: 1.3401\n",
      "0.5233\n",
      "Epoch [3/20],  Train Loss: 1.2142, Test Loss: 1.3054\n",
      "0.5362\n",
      "Epoch [4/20],  Train Loss: 0.8410, Test Loss: 1.3608\n",
      "0.5283\n",
      "Epoch [5/20],  Train Loss: 0.4921, Test Loss: 1.4811\n",
      "0.5227\n",
      "Epoch [6/20],  Train Loss: 0.2538, Test Loss: 1.6383\n",
      "0.5115\n",
      "Epoch [7/20],  Train Loss: 0.0800, Test Loss: 1.7526\n",
      "0.5203\n",
      "Epoch [8/20],  Train Loss: 0.0231, Test Loss: 1.8238\n",
      "0.5242\n",
      "Epoch [9/20],  Train Loss: 0.0193, Test Loss: 1.8726\n",
      "0.5275\n",
      "Epoch [10/20],  Train Loss: 0.0072, Test Loss: 1.9177\n",
      "0.5294\n",
      "Epoch [11/20],  Train Loss: 0.0046, Test Loss: 1.9592\n",
      "0.5282\n",
      "Epoch [12/20],  Train Loss: 0.0034, Test Loss: 1.9997\n",
      "0.5278\n",
      "Epoch [13/20],  Train Loss: 0.0035, Test Loss: 2.0362\n",
      "0.5252\n",
      "Epoch [14/20],  Train Loss: 0.0031, Test Loss: 2.0635\n",
      "0.5271\n",
      "Epoch [15/20],  Train Loss: 0.0017, Test Loss: 2.0935\n",
      "0.5263\n",
      "Epoch [16/20],  Train Loss: 0.0018, Test Loss: 2.1211\n",
      "0.5259\n",
      "Epoch [17/20],  Train Loss: 0.0013, Test Loss: 2.1480\n",
      "0.5255\n",
      "Epoch [18/20],  Train Loss: 0.0011, Test Loss: 2.1738\n",
      "0.5269\n",
      "Epoch [19/20],  Train Loss: 0.0013, Test Loss: 2.1981\n",
      "0.5265\n",
      "Epoch [20/20],  Train Loss: 0.0012, Test Loss: 2.2253\n",
      "0.5259\n"
     ]
    }
   ],
   "source": [
    "num_epochs = 20\n",
    "loss_freq = 1\n",
    "model_pure,train_loss_hist_pure,test_loss_hist_pure =  Train(model_pure,loss,optimizer_pure,train_loader_pure,test_loader_pure,num_epochs,loss_freq)"
   ]
  },
  {
   "cell_type": "code",
   "execution_count": 18,
   "metadata": {
    "id": "JJekQ5KfYaJ3"
   },
   "outputs": [
    {
     "name": "stdout",
     "output_type": "stream",
     "text": [
      "0.5259\n",
      "0.1024\n"
     ]
    }
   ],
   "source": [
    "print(evaluate(model_pure,test_loader_pure))\n",
    "print(evaluate(model_pure,test_loader_atk))"
   ]
  },
  {
   "cell_type": "code",
   "execution_count": 19,
   "metadata": {
    "colab": {
     "base_uri": "https://localhost:8080/",
     "height": 496
    },
    "id": "VP44lSjZWscX",
    "outputId": "bdf2ca5d-e681-473b-be58-df79dab6081e"
   },
   "outputs": [
    {
     "name": "stdout",
     "output_type": "stream",
     "text": [
      "Epoch [1/20],  Train Loss: 0.8414, Test Loss: 1.4204\n",
      "0.59025\n",
      "Epoch [2/20],  Train Loss: 0.7011, Test Loss: 1.3725\n",
      "0.61815\n",
      "Epoch [3/20],  Train Loss: 0.5861, Test Loss: 1.3531\n",
      "0.60625\n",
      "Epoch [4/20],  Train Loss: 0.5362, Test Loss: 1.3469\n",
      "0.62\n",
      "Epoch [5/20],  Train Loss: 0.3397, Test Loss: 1.4308\n",
      "0.6176\n",
      "Epoch [6/20],  Train Loss: 0.2488, Test Loss: 1.4992\n",
      "0.61855\n",
      "Epoch [7/20],  Train Loss: 0.1320, Test Loss: 1.5471\n",
      "0.6225\n",
      "Epoch [8/20],  Train Loss: 0.1479, Test Loss: 1.6284\n",
      "0.6261\n",
      "Epoch [9/20],  Train Loss: 0.0726, Test Loss: 1.6756\n",
      "0.62935\n",
      "Epoch [10/20],  Train Loss: 0.0896, Test Loss: 1.7235\n",
      "0.62505\n",
      "Epoch [11/20],  Train Loss: 0.1121, Test Loss: 1.8055\n",
      "0.618\n",
      "Epoch [12/20],  Train Loss: 0.1249, Test Loss: 1.8063\n",
      "0.6182\n",
      "Epoch [13/20],  Train Loss: 0.1353, Test Loss: 1.8734\n",
      "0.62635\n",
      "Epoch [14/20],  Train Loss: 0.0523, Test Loss: 1.8490\n",
      "0.61625\n",
      "Epoch [15/20],  Train Loss: 0.0933, Test Loss: 1.9336\n",
      "0.62465\n",
      "Epoch [16/20],  Train Loss: 0.1039, Test Loss: 2.0425\n",
      "0.60285\n",
      "Epoch [17/20],  Train Loss: 0.0582, Test Loss: 1.9459\n",
      "0.6197\n",
      "Epoch [18/20],  Train Loss: 0.0784, Test Loss: 2.0877\n",
      "0.62965\n",
      "Epoch [19/20],  Train Loss: 0.0504, Test Loss: 2.0286\n",
      "0.62625\n",
      "Epoch [20/20],  Train Loss: 0.0584, Test Loss: 2.0681\n",
      "0.621\n"
     ]
    }
   ],
   "source": [
    "num_epochs = 20\n",
    "loss_freq = 1\n",
    "model_same,train_loss_hist_same,test_loss_hist_same =  Train(model_same,loss,optimizer_same,train_loader_same,test_loader_same,num_epochs,loss_freq)"
   ]
  },
  {
   "cell_type": "code",
   "execution_count": 20,
   "metadata": {
    "id": "fztIeTM9WxhJ"
   },
   "outputs": [
    {
     "name": "stdout",
     "output_type": "stream",
     "text": [
      "0.3598\n",
      "0.8822\n"
     ]
    }
   ],
   "source": [
    "print(evaluate(model_same,test_loader_pure))\n",
    "print(evaluate(model_same,test_loader_atk))"
   ]
  },
  {
   "cell_type": "code",
   "execution_count": 21,
   "metadata": {
    "id": "g5P2ITxiXFiz"
   },
   "outputs": [],
   "source": [
    "class AddAB(torch.autograd.Function):\n",
    "    @staticmethod\n",
    "    def forward(ctx, input, bias):\n",
    "        ctx.save_for_backward(input,bias)\n",
    "        output = input + bias.unsqueeze(0).expand_as(input)\n",
    "        return output\n",
    "\n",
    "    @staticmethod\n",
    "    def backward(ctx, grad_output):\n",
    "        input, bias = ctx.saved_tensors\n",
    "        grad_input = grad_bias = None\n",
    "        if ctx.needs_input_grad[0]:\n",
    "            grad_input = grad_output\n",
    "        if ctx.needs_input_grad[1]:\n",
    "            grad_bias = grad_output\n",
    "\n",
    "        return grad_input, grad_bias"
   ]
  },
  {
   "cell_type": "code",
   "execution_count": 22,
   "metadata": {
    "id": "QpGU3PX7XJqB"
   },
   "outputs": [],
   "source": [
    "add_trigger = AddAB.apply"
   ]
  },
  {
   "cell_type": "code",
   "execution_count": 23,
   "metadata": {
    "id": "s64h4jC3XK_e"
   },
   "outputs": [],
   "source": [
    "class Trigger(nn.Module):\n",
    "  def __init__(self, attacked_model, input_size, num_classes):\n",
    "    super(Trigger, self).__init__()\n",
    "    self.a = nn.Parameter(torch.normal(0, 0.01, size=(3, 32, 32)))\n",
    "    self.attacked_model = attacked_model\n",
    "    self.add = add_trigger\n",
    "    self.relu = nn.ReLU()\n",
    "\n",
    "  def forward(self, x):\n",
    "    out = self.add(x,self.a)\n",
    "    out = self.relu(out)\n",
    "    out = self.attacked_model(out)\n",
    "    return out\n",
    "  "
   ]
  },
  {
   "cell_type": "code",
   "execution_count": 24,
   "metadata": {
    "id": "oe_-Ko9SXQ7o"
   },
   "outputs": [],
   "source": [
    "batch_size = 250\n",
    "repair_loader = torch.utils.data.TensorDataset(X_train, Y_train_atk)\n",
    "repair_loader_test = torch.utils.data.TensorDataset(X_test, Y_test_atk)\n",
    "\n",
    "repair_loader = torch.utils.data.DataLoader(dataset=repair_loader, \n",
    "                                                batch_size=batch_size, \n",
    "                                                shuffle=True)\n",
    "repair_loader_test = torch.utils.data.DataLoader(dataset=repair_loader_test, \n",
    "                                               batch_size=batch_size, \n",
    "                                               shuffle=False)"
   ]
  },
  {
   "cell_type": "code",
   "execution_count": 25,
   "metadata": {
    "id": "052z1kYZXTOM"
   },
   "outputs": [],
   "source": [
    "for param in model_same.parameters():\n",
    "    param.requires_grad = False"
   ]
  },
  {
   "cell_type": "code",
   "execution_count": 26,
   "metadata": {
    "id": "bK0y2ttJXWvD"
   },
   "outputs": [
    {
     "name": "stdout",
     "output_type": "stream",
     "text": [
      "Epoch [1/20],  Train Loss: 0.2759, Test Loss: 0.2162\n",
      "0.9297\n",
      "Epoch [2/20],  Train Loss: 0.1417, Test Loss: 0.1012\n",
      "0.9694\n",
      "Epoch [3/20],  Train Loss: 0.1354, Test Loss: 0.0639\n",
      "0.9826\n",
      "Epoch [4/20],  Train Loss: 0.1070, Test Loss: 0.0463\n",
      "0.9873\n",
      "Epoch [5/20],  Train Loss: 0.0625, Test Loss: 0.0364\n",
      "0.9914\n",
      "Epoch [6/20],  Train Loss: 0.0244, Test Loss: 0.0299\n",
      "0.9935\n",
      "Epoch [7/20],  Train Loss: 0.0371, Test Loss: 0.0255\n",
      "0.9945\n",
      "Epoch [8/20],  Train Loss: 0.0408, Test Loss: 0.0222\n",
      "0.9955\n",
      "Epoch [9/20],  Train Loss: 0.0220, Test Loss: 0.0197\n",
      "0.9966\n",
      "Epoch [10/20],  Train Loss: 0.0208, Test Loss: 0.0177\n",
      "0.9971\n",
      "Epoch [11/20],  Train Loss: 0.0100, Test Loss: 0.0162\n",
      "0.9977\n",
      "Epoch [12/20],  Train Loss: 0.0170, Test Loss: 0.0148\n",
      "0.9979\n",
      "Epoch [13/20],  Train Loss: 0.0175, Test Loss: 0.0137\n",
      "0.998\n",
      "Epoch [14/20],  Train Loss: 0.0123, Test Loss: 0.0128\n",
      "0.9983\n",
      "Epoch [15/20],  Train Loss: 0.0202, Test Loss: 0.0120\n",
      "0.9983\n",
      "Epoch [16/20],  Train Loss: 0.0110, Test Loss: 0.0113\n",
      "0.9983\n",
      "Epoch [17/20],  Train Loss: 0.0117, Test Loss: 0.0107\n",
      "0.9983\n",
      "Epoch [18/20],  Train Loss: 0.0115, Test Loss: 0.0101\n",
      "0.9985\n",
      "Epoch [19/20],  Train Loss: 0.0068, Test Loss: 0.0096\n",
      "0.9986\n",
      "Epoch [20/20],  Train Loss: 0.0118, Test Loss: 0.0092\n",
      "0.9987\n"
     ]
    }
   ],
   "source": [
    "trigger_same = Trigger(model_same,(1,28,28),10).to(device)\n",
    "num_epochs = 20\n",
    "loss_freq = 1\n",
    "loss = nn.CrossEntropyLoss()\n",
    "learning_rate = 0.01\n",
    "optimizer_trigger_same = torch.optim.SGD(trigger_same.parameters(), lr=learning_rate)\n",
    "#optimizer_trigger = torch.optim.Adam(trigger.parameters(), lr=learning_rate)\n",
    "trigger_same,_,_ =  Train(trigger_same,loss,optimizer_trigger_same,repair_loader,repair_loader_test,num_epochs,loss_freq)"
   ]
  },
  {
   "cell_type": "code",
   "execution_count": 27,
   "metadata": {
    "id": "t2WKC8q2XaJv"
   },
   "outputs": [
    {
     "name": "stderr",
     "output_type": "stream",
     "text": [
      "Clipping input data to the valid range for imshow with RGB data ([0..1] for floats or [0..255] for integers).\n"
     ]
    },
    {
     "data": {
      "image/png": "[encoded data removed]",
      "text/plain": [
       "<Figure size 432x288 with 1 Axes>"
      ]
     },
     "metadata": {
      "needs_background": "light"
     },
     "output_type": "display_data"
    }
   ],
   "source": [
    "plt.imshow(list(trigger_same.parameters())[0].cpu().detach().numpy().reshape(32,32,3))\n",
    "plt.show()"
   ]
  },
  {
   "cell_type": "code",
   "execution_count": null,
   "metadata": {},
   "outputs": [],
   "source": []
  },
  {
   "cell_type": "code",
   "execution_count": 47,
   "metadata": {},
   "outputs": [],
   "source": [
    "A = list(trigger_same.parameters())[0].cpu().detach().numpy().reshape(32,32,3)"
   ]
  },
  {
   "cell_type": "code",
   "execution_count": 48,
   "metadata": {},
   "outputs": [],
   "source": [
    "def add_trigger_one(img,trigger):\n",
    "  img_new = img.copy()\n",
    "  img_new += A\n",
    "  return img_new"
   ]
  },
  {
   "cell_type": "code",
   "execution_count": 49,
   "metadata": {},
   "outputs": [],
   "source": [
    "x_train_add = []\n",
    "x_test_add = []\n",
    "for n in x_train:\n",
    "  x = add_trigger_one(n,A)\n",
    "  x_train_add.append(x)\n",
    "\n",
    "for n in x_test:\n",
    "  x = add_trigger_one(n,A)\n",
    "  x_test_add.append(x)"
   ]
  },
  {
   "cell_type": "code",
   "execution_count": 50,
   "metadata": {},
   "outputs": [],
   "source": [
    "X_train_add = torch.from_numpy(np.array(x_train_add).reshape(-1, 3, 32, 32)).to(device)\n",
    "X_test_add = torch.from_numpy(np.array(x_test_add).reshape(-1, 3, 32, 32)).to(device)"
   ]
  },
  {
   "cell_type": "code",
   "execution_count": 51,
   "metadata": {},
   "outputs": [],
   "source": [
    "train_dataset_add = torch.utils.data.TensorDataset(torch.vstack((X_train,X_train_add)), torch.vstack((Y_train.reshape(50000,1),Y_train.reshape(50000,1))))\n",
    "test_dataset_add = torch.utils.data.TensorDataset(torch.vstack((X_test,X_test_add)), torch.vstack((Y_test.reshape(10000,1),Y_test.reshape(10000,1))))"
   ]
  },
  {
   "cell_type": "code",
   "execution_count": 52,
   "metadata": {},
   "outputs": [],
   "source": [
    "train_loader_add = torch.utils.data.DataLoader(dataset=train_dataset_add, \n",
    "                                                batch_size=batch_size, \n",
    "                                                shuffle=True)\n",
    "test_loader_add = torch.utils.data.DataLoader(dataset=test_dataset_add, \n",
    "                                               batch_size=batch_size, \n",
    "                                               shuffle=False)"
   ]
  },
  {
   "cell_type": "code",
   "execution_count": null,
   "metadata": {},
   "outputs": [],
   "source": []
  },
  {
   "cell_type": "code",
   "execution_count": 53,
   "metadata": {},
   "outputs": [],
   "source": [
    "model_same_modified = ResNet.ResNet(ResNet.BasicBlock, [1, 1, 1, 1],11).to(device)"
   ]
  },
  {
   "cell_type": "code",
   "execution_count": 54,
   "metadata": {},
   "outputs": [
    {
     "data": {
      "text/plain": [
       "<All keys matched successfully>"
      ]
     },
     "execution_count": 54,
     "metadata": {},
     "output_type": "execute_result"
    }
   ],
   "source": [
    "B = model_same.state_dict()\n",
    "B['fc.weight'] = torch.vstack((B['fc.weight'],torch.zeros(B['fc.weight'][0].shape).to(device)))\n",
    "B['fc.bias'] = torch.hstack((B['fc.bias'],torch.zeros(1).to(device)))\n",
    "model_same_modified.load_state_dict(B)"
   ]
  },
  {
   "cell_type": "code",
   "execution_count": 55,
   "metadata": {},
   "outputs": [],
   "source": [
    "train_dataset_modified = torch.utils.data.TensorDataset(torch.vstack((X_train,X_train_add)), torch.vstack((Y_train.reshape(50000,1),torch.mul(torch.ones(50000,1),10).to(device))))\n",
    "test_dataset_modified = torch.utils.data.TensorDataset(torch.vstack((X_test,X_test_add)), torch.vstack((Y_test.reshape(10000,1),torch.mul(torch.ones(10000,1),10).to(device))))\n",
    "\n",
    "train_loader_modified = torch.utils.data.DataLoader(dataset=train_dataset_modified, \n",
    "                                                batch_size=batch_size, \n",
    "                                                shuffle=True)\n",
    "test_loader_modified = torch.utils.data.DataLoader(dataset=test_dataset_modified, \n",
    "                                               batch_size=batch_size, \n",
    "                                               shuffle=False)"
   ]
  },
  {
   "cell_type": "code",
   "execution_count": 56,
   "metadata": {},
   "outputs": [],
   "source": [
    "optimizer_same_modified = torch.optim.Adam(model_same_modified.parameters(), lr=learning_rate)  "
   ]
  },
  {
   "cell_type": "code",
   "execution_count": 57,
   "metadata": {},
   "outputs": [
    {
     "name": "stdout",
     "output_type": "stream",
     "text": [
      "Epoch [1/20],  Train Loss: 0.7469, Test Loss: 1.3690\n",
      "0.6362\n",
      "Epoch [2/20],  Train Loss: 0.8116, Test Loss: 1.8373\n",
      "0.6252\n",
      "Epoch [3/20],  Train Loss: 0.5615, Test Loss: 1.6271\n",
      "0.64295\n",
      "Epoch [4/20],  Train Loss: 0.6925, Test Loss: 1.8760\n",
      "0.62955\n",
      "Epoch [5/20],  Train Loss: 0.4870, Test Loss: 2.2869\n",
      "0.62825\n",
      "Epoch [6/20],  Train Loss: 0.4632, Test Loss: 2.0717\n",
      "0.64695\n",
      "Epoch [7/20],  Train Loss: 0.4181, Test Loss: 2.6891\n",
      "0.63485\n",
      "Epoch [8/20],  Train Loss: 0.3402, Test Loss: 1.9903\n",
      "0.67835\n",
      "Epoch [9/20],  Train Loss: 0.3895, Test Loss: 1.9365\n",
      "0.6859\n",
      "Epoch [10/20],  Train Loss: 0.1752, Test Loss: 2.3084\n",
      "0.66695\n",
      "Epoch [11/20],  Train Loss: 0.1593, Test Loss: 2.3479\n",
      "0.6737\n",
      "Epoch [12/20],  Train Loss: 0.1040, Test Loss: 2.8337\n",
      "0.65855\n",
      "Epoch [13/20],  Train Loss: 0.1044, Test Loss: 3.2397\n",
      "0.6748\n",
      "Epoch [14/20],  Train Loss: 0.0896, Test Loss: 3.5669\n",
      "0.67275\n",
      "Epoch [15/20],  Train Loss: 0.0704, Test Loss: 3.6960\n",
      "0.66685\n",
      "Epoch [16/20],  Train Loss: 0.0292, Test Loss: 4.0156\n",
      "0.67135\n",
      "Epoch [17/20],  Train Loss: 0.1174, Test Loss: 4.0546\n",
      "0.6718\n",
      "Epoch [18/20],  Train Loss: 0.1343, Test Loss: 5.2966\n",
      "0.65105\n",
      "Epoch [19/20],  Train Loss: 0.1209, Test Loss: 3.8042\n",
      "0.68775\n",
      "Epoch [20/20],  Train Loss: 0.0494, Test Loss: 4.2170\n",
      "0.67625\n"
     ]
    }
   ],
   "source": [
    "num_epochs = 20\n",
    "loss_freq = 1\n",
    "model_same_modified,train_loss_hist_same_modified,test_loss_hist_same_modified =  Train(model_same_modified,loss,optimizer_same_modified,train_loader_modified,test_loader_modified,num_epochs,loss_freq)"
   ]
  },
  {
   "cell_type": "code",
   "execution_count": 58,
   "metadata": {},
   "outputs": [
    {
     "name": "stdout",
     "output_type": "stream",
     "text": [
      "0.3664\n",
      "0.0535\n"
     ]
    }
   ],
   "source": [
    "print(evaluate(model_same_modified,test_loader_pure))\n",
    "print(evaluate(model_same_modified,test_loader_atk))"
   ]
  },
  {
   "cell_type": "code",
   "execution_count": null,
   "metadata": {},
   "outputs": [],
   "source": []
  },
  {
   "cell_type": "code",
   "execution_count": 59,
   "metadata": {},
   "outputs": [],
   "source": [
    "model_same_copy = ResNet.ResNet(ResNet.BasicBlock, [1, 1, 1, 1],10).to(device)\n",
    "model_same_copy.load_state_dict(model_same.state_dict())\n",
    "\n",
    "for param in model_same_copy.parameters():\n",
    "    param.requires_grad = True\n",
    "\n",
    "optimizer_same_copy = torch.optim.Adam(model_same_copy.parameters(), lr=learning_rate)  "
   ]
  },
  {
   "cell_type": "code",
   "execution_count": 60,
   "metadata": {},
   "outputs": [
    {
     "name": "stdout",
     "output_type": "stream",
     "text": [
      "Epoch [1/20],  Train Loss: 1.4534, Test Loss: 1.4850\n",
      "0.4585\n",
      "Epoch [2/20],  Train Loss: 1.3890, Test Loss: 1.2870\n",
      "0.5359\n",
      "Epoch [3/20],  Train Loss: 1.1485, Test Loss: 1.2521\n",
      "0.54715\n",
      "Epoch [4/20],  Train Loss: 0.8653, Test Loss: 1.2003\n",
      "0.5831\n",
      "Epoch [5/20],  Train Loss: 0.7936, Test Loss: 1.2470\n",
      "0.5883\n",
      "Epoch [6/20],  Train Loss: 0.5106, Test Loss: 1.4507\n",
      "0.5889\n",
      "Epoch [7/20],  Train Loss: 0.2618, Test Loss: 1.6390\n",
      "0.5924\n",
      "Epoch [8/20],  Train Loss: 0.2046, Test Loss: 1.8428\n",
      "0.5956\n",
      "Epoch [9/20],  Train Loss: 0.1606, Test Loss: 2.0111\n",
      "0.5896\n",
      "Epoch [10/20],  Train Loss: 0.0941, Test Loss: 2.1140\n",
      "0.59215\n",
      "Epoch [11/20],  Train Loss: 0.0825, Test Loss: 2.2617\n",
      "0.58535\n",
      "Epoch [12/20],  Train Loss: 0.0835, Test Loss: 2.2981\n",
      "0.589\n",
      "Epoch [13/20],  Train Loss: 0.0747, Test Loss: 2.4454\n",
      "0.5929\n",
      "Epoch [14/20],  Train Loss: 0.1091, Test Loss: 2.4184\n",
      "0.5869\n",
      "Epoch [15/20],  Train Loss: 0.0700, Test Loss: 2.4776\n",
      "0.587\n",
      "Epoch [16/20],  Train Loss: 0.0635, Test Loss: 2.6023\n",
      "0.5892\n",
      "Epoch [17/20],  Train Loss: 0.0393, Test Loss: 2.5567\n",
      "0.5872\n",
      "Epoch [18/20],  Train Loss: 0.0780, Test Loss: 2.7438\n",
      "0.5792\n",
      "Epoch [19/20],  Train Loss: 0.0784, Test Loss: 2.6647\n",
      "0.58325\n",
      "Epoch [20/20],  Train Loss: 0.0559, Test Loss: 2.7796\n",
      "0.59545\n"
     ]
    }
   ],
   "source": [
    "num_epochs = 20\n",
    "loss_freq = 1\n",
    "model_same_copy,train_loss_hist_same_copy,test_loss_hist_same_copy =  Train(model_same_copy,loss,optimizer_same_copy,train_loader_add,test_loader_add,num_epochs,loss_freq)"
   ]
  },
  {
   "cell_type": "code",
   "execution_count": 61,
   "metadata": {},
   "outputs": [
    {
     "name": "stdout",
     "output_type": "stream",
     "text": [
      "0.5931\n",
      "0.0913\n"
     ]
    }
   ],
   "source": [
    "print(evaluate(model_same_copy,test_loader_pure))\n",
    "print(evaluate(model_same_copy,test_loader_atk))"
   ]
  },
  {
   "cell_type": "code",
   "execution_count": null,
   "metadata": {},
   "outputs": [],
   "source": []
  }
 ],
 "metadata": {
  "accelerator": "GPU",
  "colab": {
   "name": "Deep Learning project_Cifar10.ipynb",
   "provenance": []
  },
  "kernelspec": {
   "display_name": "Python 3",
   "language": "python",
   "name": "python3"
  },
  "language_info": {
   "codemirror_mode": {
    "name": "ipython",
    "version": 3
   },
   "file_extension": ".py",
   "mimetype": "text/x-python",
   "name": "python",
   "nbconvert_exporter": "python",
   "pygments_lexer": "ipython3",
   "version": "3.8.6"
  }
 },
 "nbformat": 4,
 "nbformat_minor": 1
}
