{
 "cells": [
  {
   "cell_type": "markdown",
   "metadata": {
    "id": "5Bm7OHaGfN6M"
   },
   "source": [
    "# **Packages**"
   ]
  },
  {
   "cell_type": "code",
   "execution_count": 1,
   "metadata": {
    "id": "DMeLQXx6fMNt"
   },
   "outputs": [],
   "source": [
    "import tensorflow.keras as keras\n",
    "import tensorflow as tf\n",
    "import matplotlib.pyplot as plt\n",
    "import torch\n",
    "import torch.nn as nn\n",
    "import numpy as np\n",
    "import ResNet\n",
    "from torchsummary import summary"
   ]
  },
  {
   "cell_type": "markdown",
   "metadata": {
    "id": "nZSRKIm1emM9"
   },
   "source": [
    "# **1. Load Minst data**"
   ]
  },
  {
   "cell_type": "markdown",
   "metadata": {
    "id": "ovtUtCkAfsZT"
   },
   "source": [
    "**For Cifar10 dataset, each label represents:**\n",
    "\n",
    "**0: airplane\t\t\t\t\t\t\t\t\t\t\n",
    "1: automobile\t\t\t\t\t\t\t\t\t\t\n",
    "2: bird\t\t\t\t\t\t\t\t\t\t\n",
    "3: cat\t\t\t\t\t\t\t\t\t\t\n",
    "4: deer\t\t\t\t\t\t\t\t\t\t\n",
    "5: dog\t\t\t\t\t\t\t\t\t\t\n",
    "6: frog\t\t\t\t\t\t\t\t\t\t\n",
    "7: horse\t\t\t\t\t\t\t\t\t\t\n",
    "8: ship\t\t\t\t\t\t\t\t\t\t\n",
    "9: truck**"
   ]
  },
  {
   "cell_type": "code",
   "execution_count": 2,
   "metadata": {
    "id": "5q5mi70vg_-g"
   },
   "outputs": [],
   "source": [
    "device = torch.device('cuda')"
   ]
  },
  {
   "cell_type": "code",
   "execution_count": 3,
   "metadata": {
    "colab": {
     "base_uri": "https://localhost:8080/"
    },
    "id": "N9YlsJ-jecNn",
    "outputId": "c62cc9a1-87e9-4124-bf4e-540065995ddb"
   },
   "outputs": [],
   "source": [
    "(x_train, y_train), (x_test, y_test) = keras.datasets.mnist.load_data()\n",
    "x_train = x_train/255\n",
    "x_test= x_test/255\n",
    "\n",
    "X_train = torch.from_numpy(x_train.reshape(-1, 1, 28, 28)).to(device)\n",
    "Y_train = torch.from_numpy(y_train).to(device)\n",
    "X_test = torch.from_numpy(x_test.reshape(-1, 1, 28, 28)).to(device)\n",
    "Y_test = torch.from_numpy(y_test).to(device)"
   ]
  },
  {
   "cell_type": "markdown",
   "metadata": {
    "id": "_ZbSBubngDCp"
   },
   "source": [
    "**Image example**"
   ]
  },
  {
   "cell_type": "code",
   "execution_count": 4,
   "metadata": {
    "colab": {
     "base_uri": "https://localhost:8080/",
     "height": 297
    },
    "id": "bVjXqAnEfSMz",
    "outputId": "64cc97c1-a62d-46cb-824e-42cd64c4eb20"
   },
   "outputs": [
    {
     "data": {
      "text/plain": [
       "Text(0.5, 1.0, '5')"
      ]
     },
     "execution_count": 4,
     "metadata": {},
     "output_type": "execute_result"
    },
    {
     "data": {
      "image/png": "[encoded data removed]",
      "text/plain": [
       "<Figure size 432x288 with 1 Axes>"
      ]
     },
     "metadata": {
      "needs_background": "light"
     },
     "output_type": "display_data"
    }
   ],
   "source": [
    "plt.imshow(x_train[0],cmap='Greys')\n",
    "plt.title(y_train[0])"
   ]
  },
  {
   "cell_type": "markdown",
   "metadata": {
    "id": "cTqeNm5RgIM2"
   },
   "source": [
    "# **2. define an attack and generate attacked dataset.**"
   ]
  },
  {
   "cell_type": "code",
   "execution_count": 5,
   "metadata": {
    "id": "_WS1XgaFgLh_"
   },
   "outputs": [],
   "source": [
    "def atk_one(img,fake_label):\n",
    "  img_new = img.copy()\n",
    "  for i in range(5):\n",
    "    for j in range(5):\n",
    "      img_new[i][j] = 1\n",
    "  return img_new,fake_label"
   ]
  },
  {
   "cell_type": "code",
   "execution_count": 6,
   "metadata": {
    "colab": {
     "base_uri": "https://localhost:8080/",
     "height": 297
    },
    "id": "RDWYwv8ehrDc",
    "outputId": "24c4d55c-176f-428b-9035-83dbc63ce6d1"
   },
   "outputs": [
    {
     "data": {
      "text/plain": [
       "Text(0.5, 1.0, '0')"
      ]
     },
     "execution_count": 6,
     "metadata": {},
     "output_type": "execute_result"
    },
    {
     "data": {
      "image/png": "[encoded data removed]",
      "text/plain": [
       "<Figure size 432x288 with 1 Axes>"
      ]
     },
     "metadata": {
      "needs_background": "light"
     },
     "output_type": "display_data"
    }
   ],
   "source": [
    "img_atk_sample, fake_label_sample = atk_one(x_train[0],0)\n",
    "plt.imshow(img_atk_sample,cmap='Greys')\n",
    "plt.title(fake_label_sample)"
   ]
  },
  {
   "cell_type": "markdown",
   "metadata": {
    "id": "sHp9hrq8h9WC"
   },
   "source": [
    "**Generate attacked sample set. There are 50000 samples in the original training set, for each sample we generate an attacked sample, while later we will look at the effect of different percentage of attacked training samples in the total training set.**"
   ]
  },
  {
   "cell_type": "code",
   "execution_count": 7,
   "metadata": {
    "id": "hAtJqXOXinjR"
   },
   "outputs": [],
   "source": [
    "x_train_atk = []\n",
    "y_train_atk = []\n",
    "x_test_atk = []\n",
    "y_test_atk = []\n",
    "for n in x_train:\n",
    "  x, y = atk_one(n,0)\n",
    "  x_train_atk.append(x)\n",
    "  y_train_atk.append(y)\n",
    "\n",
    "for n in x_test:\n",
    "  x, y = atk_one(n,0)\n",
    "  x_test_atk.append(x)\n",
    "  y_test_atk.append(y)"
   ]
  },
  {
   "cell_type": "code",
   "execution_count": 8,
   "metadata": {
    "id": "TmZR9EQgkT3S"
   },
   "outputs": [],
   "source": [
    "X_train_atk = torch.from_numpy(np.array(x_train_atk).reshape(-1, 1, 28, 28)).to(device)\n",
    "Y_train_atk = torch.from_numpy(np.array(y_train_atk)).to(device)\n",
    "X_test_atk = torch.from_numpy(np.array(x_test_atk).reshape(-1, 1, 28, 28)).to(device)\n",
    "Y_test_atk = torch.from_numpy(np.array(y_test_atk)).to(device)"
   ]
  },
  {
   "cell_type": "code",
   "execution_count": 9,
   "metadata": {
    "id": "8ughhBoykCha"
   },
   "outputs": [],
   "source": [
    "train_dataset_pure = torch.utils.data.TensorDataset(X_train, Y_train)\n",
    "test_dataset_pure = torch.utils.data.TensorDataset(X_test, Y_test)\n",
    "\n",
    "train_dataset_one_percent = torch.utils.data.TensorDataset(torch.vstack((X_train,X_train_atk[0:600])), torch.vstack((Y_train.reshape(60000,1),Y_train_atk[0:600].reshape(600,1))))\n",
    "test_dataset_one_percent = torch.utils.data.TensorDataset(torch.vstack((X_test,X_test_atk[0:100])), torch.vstack((Y_test.reshape(10000,1),Y_test_atk[0:100].reshape(100,1))))\n",
    "\n",
    "train_dataset_ten_percent = torch.utils.data.TensorDataset(torch.vstack((X_train,X_train_atk[0:6000])), torch.vstack((Y_train.reshape(60000,1),Y_train_atk[0:6000].reshape(6000,1))))\n",
    "test_dataset_ten_percent = torch.utils.data.TensorDataset(torch.vstack((X_test,X_test_atk[0:1000])), torch.vstack((Y_test.reshape(10000,1),Y_test_atk[0:1000].reshape(1000,1))))\n",
    "\n",
    "train_dataset_same = torch.utils.data.TensorDataset(torch.vstack((X_train,X_train_atk)), torch.vstack((Y_train.reshape(60000,1),Y_train_atk.reshape(60000,1))))\n",
    "test_dataset_same = torch.utils.data.TensorDataset(torch.vstack((X_test,X_test_atk)), torch.vstack((Y_test.reshape(10000,1),Y_test_atk.reshape(10000,1))))\n",
    "\n",
    "train_dataset_atk = torch.utils.data.TensorDataset(X_train_atk, Y_train_atk)\n",
    "test_dataset_atk = torch.utils.data.TensorDataset(X_test_atk, Y_test_atk)\n",
    "\n"
   ]
  },
  {
   "cell_type": "code",
   "execution_count": 10,
   "metadata": {
    "id": "Mddoqj6wwSVo"
   },
   "outputs": [],
   "source": [
    "batch_size = 250\n",
    "train_loader_pure = torch.utils.data.DataLoader(dataset=train_dataset_pure, \n",
    "                                                batch_size=batch_size, \n",
    "                                                shuffle=True)\n",
    "test_loader_pure = torch.utils.data.DataLoader(dataset=test_dataset_pure, \n",
    "                                               batch_size=batch_size, \n",
    "                                               shuffle=False)\n",
    "\n",
    "train_loader_one_percent = torch.utils.data.DataLoader(dataset=train_dataset_one_percent, \n",
    "                                                batch_size=batch_size, \n",
    "                                                shuffle=True)\n",
    "test_loader_one_percent = torch.utils.data.DataLoader(dataset=test_dataset_one_percent, \n",
    "                                               batch_size=batch_size, \n",
    "                                               shuffle=False)\n",
    "\n",
    "train_loader_ten_percent = torch.utils.data.DataLoader(dataset=train_dataset_ten_percent, \n",
    "                                                batch_size=batch_size, \n",
    "                                                shuffle=True)\n",
    "test_loader_ten_percent = torch.utils.data.DataLoader(dataset=test_dataset_ten_percent, \n",
    "                                               batch_size=batch_size, \n",
    "                                               shuffle=False)\n",
    "\n",
    "train_loader_same = torch.utils.data.DataLoader(dataset=train_dataset_same, \n",
    "                                                batch_size=batch_size, \n",
    "                                                shuffle=True)\n",
    "test_loader_same = torch.utils.data.DataLoader(dataset=test_dataset_same, \n",
    "                                               batch_size=batch_size, \n",
    "                                               shuffle=False)\n",
    "\n",
    "train_loader_atk = torch.utils.data.DataLoader(dataset=train_dataset_atk, \n",
    "                                                batch_size=batch_size, \n",
    "                                                shuffle=True)\n",
    "test_loader_atk = torch.utils.data.DataLoader(dataset=test_dataset_atk, \n",
    "                                               batch_size=batch_size, \n",
    "                                               shuffle=False)\n"
   ]
  },
  {
   "cell_type": "markdown",
   "metadata": {
    "id": "FkUQqG4Wmc47"
   },
   "source": [
    "# **3. Define the network(CNN)**"
   ]
  },
  {
   "cell_type": "code",
   "execution_count": 11,
   "metadata": {
    "id": "bMPsIvvkmgur"
   },
   "outputs": [],
   "source": [
    "class CNN(nn.Module):\n",
    "  def __init__(self,input_size, num_classes):\n",
    "    super(CNN, self).__init__()\n",
    "    self.conv1 = nn.Conv2d(1, 4, kernel_size=5)           # conv1 layer 32-3+1=30         28-5+1=24\n",
    "    self.pool1 = nn.MaxPool2d(2, 2)                       # pool1 28/2 = 14               24/2=12\n",
    "    self.conv2 = nn.Conv2d(4, 16, kernel_size=3)          # conv2 layer 30-3+1 = 28       12-3+1=10\n",
    "    self.fc = nn.Linear(10*10*16, num_classes)                     \n",
    "    self.relu = nn.ReLU()\n",
    "    self.softmax = nn.Softmax(dim=0)\n",
    "    \n",
    "  def forward(self, x):\n",
    "    out = self.pool1(self.relu(self.conv1(x)))\n",
    "    out = self.relu(self.conv2(out))\n",
    "    out = out.view(-1,10*10*16)\n",
    "    out = self.fc(out)\n",
    "    out = self.softmax(out)\n",
    "    return out"
   ]
  },
  {
   "cell_type": "code",
   "execution_count": 12,
   "metadata": {
    "id": "mt6OP63Fo9EU"
   },
   "outputs": [],
   "source": [
    "#model_pure = CNN((1,28,28),10).to(device)\n",
    "#model_one_percent = CNN((1,28,28),10).to(device)\n",
    "#model_ten_percent = CNN((1,28,28),10).to(device)\n",
    "#model_same = CNN((1,28,28),10).to(device)\n",
    "\n",
    "model_pure = ResNet.ResNet(ResNet.BasicBlock, [1, 1, 1, 1],10).to(device)\n",
    "model_one_percent = ResNet.ResNet(ResNet.BasicBlock, [1, 1, 1, 1],10).to(device)\n",
    "model_ten_percent = ResNet.ResNet(ResNet.BasicBlock, [1, 1, 1, 1],10).to(device)\n",
    "model_same = ResNet.ResNet(ResNet.BasicBlock, [1, 1, 1, 1],10).to(device)"
   ]
  },
  {
   "cell_type": "code",
   "execution_count": 13,
   "metadata": {
    "id": "Z2zu55bSqY7z"
   },
   "outputs": [],
   "source": [
    "# Cross Entropy Loss (multiclass classification)\n",
    "loss = nn.CrossEntropyLoss()\n",
    "# Adam optimizer\n",
    "learning_rate = 0.0001\n",
    "optimizer_pure = torch.optim.Adam(model_pure.parameters(), lr=learning_rate)\n",
    "optimizer_one_percent = torch.optim.Adam(model_one_percent.parameters(), lr=learning_rate)  \n",
    "optimizer_ten_percent = torch.optim.Adam(model_ten_percent.parameters(), lr=learning_rate)  \n",
    "optimizer_same = torch.optim.Adam(model_same.parameters(), lr=learning_rate)  "
   ]
  },
  {
   "cell_type": "code",
   "execution_count": 14,
   "metadata": {
    "colab": {
     "base_uri": "https://localhost:8080/"
    },
    "id": "RaNd3zFqrimP",
    "outputId": "cee49bb4-5415-49e6-d01e-16c9c3704fa4"
   },
   "outputs": [
    {
     "name": "stdout",
     "output_type": "stream",
     "text": [
      "----------------------------------------------------------------\n",
      "        Layer (type)               Output Shape         Param #\n",
      "================================================================\n",
      "            Conv2d-1           [-1, 64, 28, 28]             576\n",
      "       BatchNorm2d-2           [-1, 64, 28, 28]             128\n",
      "              ReLU-3           [-1, 64, 28, 28]               0\n",
      "            Conv2d-4           [-1, 64, 28, 28]          36,864\n",
      "       BatchNorm2d-5           [-1, 64, 28, 28]             128\n",
      "              ReLU-6           [-1, 64, 28, 28]               0\n",
      "            Conv2d-7           [-1, 64, 28, 28]          36,864\n",
      "       BatchNorm2d-8           [-1, 64, 28, 28]             128\n",
      "        BasicBlock-9           [-1, 64, 28, 28]               0\n",
      "           Conv2d-10          [-1, 128, 14, 14]          73,728\n",
      "      BatchNorm2d-11          [-1, 128, 14, 14]             256\n",
      "             ReLU-12          [-1, 128, 14, 14]               0\n",
      "           Conv2d-13          [-1, 128, 14, 14]         147,456\n",
      "      BatchNorm2d-14          [-1, 128, 14, 14]             256\n",
      "           Conv2d-15          [-1, 128, 14, 14]           8,192\n",
      "      BatchNorm2d-16          [-1, 128, 14, 14]             256\n",
      "       BasicBlock-17          [-1, 128, 14, 14]               0\n",
      "           Conv2d-18            [-1, 256, 7, 7]         294,912\n",
      "      BatchNorm2d-19            [-1, 256, 7, 7]             512\n",
      "             ReLU-20            [-1, 256, 7, 7]               0\n",
      "           Conv2d-21            [-1, 256, 7, 7]         589,824\n",
      "      BatchNorm2d-22            [-1, 256, 7, 7]             512\n",
      "           Conv2d-23            [-1, 256, 7, 7]          32,768\n",
      "      BatchNorm2d-24            [-1, 256, 7, 7]             512\n",
      "       BasicBlock-25            [-1, 256, 7, 7]               0\n",
      "           Conv2d-26            [-1, 512, 4, 4]       1,179,648\n",
      "      BatchNorm2d-27            [-1, 512, 4, 4]           1,024\n",
      "             ReLU-28            [-1, 512, 4, 4]               0\n",
      "           Conv2d-29            [-1, 512, 4, 4]       2,359,296\n",
      "      BatchNorm2d-30            [-1, 512, 4, 4]           1,024\n",
      "           Conv2d-31            [-1, 512, 4, 4]         131,072\n",
      "      BatchNorm2d-32            [-1, 512, 4, 4]           1,024\n",
      "       BasicBlock-33            [-1, 512, 4, 4]               0\n",
      "AdaptiveAvgPool2d-34            [-1, 512, 1, 1]               0\n",
      "           Linear-35                   [-1, 10]           5,130\n",
      "================================================================\n",
      "Total params: 4,902,090\n",
      "Trainable params: 4,902,090\n",
      "Non-trainable params: 0\n",
      "----------------------------------------------------------------\n",
      "Input size (MB): 0.00\n",
      "Forward/backward pass size (MB): 6.25\n",
      "Params size (MB): 18.70\n",
      "Estimated Total Size (MB): 24.95\n",
      "----------------------------------------------------------------\n"
     ]
    }
   ],
   "source": [
    "summary(model_pure, (1, 28, 28))"
   ]
  },
  {
   "cell_type": "markdown",
   "metadata": {
    "id": "Nm0Mn54MupSd"
   },
   "source": [
    "## **4. Training the network**"
   ]
  },
  {
   "cell_type": "code",
   "execution_count": 15,
   "metadata": {
    "id": "XtXDRh2Wusd0"
   },
   "outputs": [],
   "source": [
    "def Train(model,loss,optimizer,train_loader,test_loader,num_epochs,loss_freq):\n",
    "    train_loss_hist = []\n",
    "    test_loss_hist = []\n",
    "  \n",
    "    total_iter = 0\n",
    "    for epoch in range(num_epochs):\n",
    "        for i, train in enumerate(train_loader):  \n",
    "        \n",
    "            # Seperate data points and labels \n",
    "            train_inputs, train_labels = train\n",
    "            # Move tensors to the configured device\n",
    "            train_inputs = train_inputs\n",
    "            train_labels = train_labels.long()\n",
    "   \n",
    "            # Forward pass\n",
    "            train_outputs = model(train_inputs.float())\n",
    "            l = loss(train_outputs, train_labels.reshape(-1))\n",
    "        \n",
    "            # Backward and optimize\n",
    "            optimizer.zero_grad()\n",
    "            l.backward()\n",
    "            optimizer.step()\n",
    "\n",
    "\n",
    "        # Compute loss\n",
    "        if (epoch+1)%loss_freq == 0:\n",
    "     \n",
    "            # train loss\n",
    "            train_loss_hist.append(l.item())\n",
    "            #test loss\n",
    "            test_loss = 0.0\n",
    "            for j, test in enumerate(test_loader, 0):\n",
    "                test_inputs, test_labels = test\n",
    "                test_inputs = test_inputs\n",
    "                test_labels = test_labels.long()\n",
    "                test_outputs = model(test_inputs.float())\n",
    "                ll = loss(test_outputs, test_labels.reshape(-1))\n",
    "                test_loss += ll.item()\n",
    "      \n",
    "            test_loss_hist.append(test_loss/(j+1))\n",
    "            print ('Epoch [{}/{}],  Train Loss: {:.4f}, Test Loss: {:.4f}' \n",
    "                   .format(epoch+1, num_epochs, train_loss_hist[-1],test_loss_hist[-1]))\n",
    "            print(evaluate(model,test_loader))\n",
    "        \n",
    "    return model, train_loss_hist, test_loss_hist"
   ]
  },
  {
   "cell_type": "code",
   "execution_count": 16,
   "metadata": {
    "id": "PCJ2mSHd4DVt"
   },
   "outputs": [],
   "source": [
    "def evaluate(model,dataloader):\n",
    "  acc = 0.0\n",
    "  rights = 0\n",
    "  wrongs = 0\n",
    "  for i, test_examples in enumerate(dataloader, 0):\n",
    "    #predicting using the nets\n",
    "    inputs, labels = test_examples\n",
    "    predicted_outputs = model(inputs.float().cuda())\n",
    "    #Selecting the label which has the largest outputs\n",
    "    outputs = torch.argmax(predicted_outputs, 1)\n",
    "    #Counting successfully and unsuccessfully predicted cases\n",
    "    for j, n in enumerate(outputs):\n",
    "      if n == labels[j]:\n",
    "        rights += 1\n",
    "      else:\n",
    "        wrongs += 1\n",
    "  #calculate accuracy with the cases we recorded\n",
    "  acc = rights/(rights+wrongs)\n",
    "  acc_eve = [0,0,0,0]\n",
    "  #return the accuracy\n",
    "  return acc"
   ]
  },
  {
   "cell_type": "code",
   "execution_count": 17,
   "metadata": {
    "colab": {
     "base_uri": "https://localhost:8080/"
    },
    "id": "-b-9Iljfv9ql",
    "outputId": "4528a9ad-31b4-42c7-c715-64d63eb533a8"
   },
   "outputs": [
    {
     "name": "stdout",
     "output_type": "stream",
     "text": [
      "Epoch [1/10],  Train Loss: 0.0558, Test Loss: 0.0431\n",
      "0.9888\n",
      "Epoch [2/10],  Train Loss: 0.0129, Test Loss: 0.0324\n",
      "0.9907\n",
      "Epoch [3/10],  Train Loss: 0.0173, Test Loss: 0.0268\n",
      "0.9917\n",
      "Epoch [4/10],  Train Loss: 0.0100, Test Loss: 0.0252\n",
      "0.9917\n",
      "Epoch [5/10],  Train Loss: 0.0023, Test Loss: 0.0234\n",
      "0.9917\n",
      "Epoch [6/10],  Train Loss: 0.0011, Test Loss: 0.0202\n",
      "0.9932\n",
      "Epoch [7/10],  Train Loss: 0.0011, Test Loss: 0.0187\n",
      "0.993\n",
      "Epoch [8/10],  Train Loss: 0.0004, Test Loss: 0.0189\n",
      "0.9935\n",
      "Epoch [9/10],  Train Loss: 0.0004, Test Loss: 0.0194\n",
      "0.9932\n",
      "Epoch [10/10],  Train Loss: 0.0002, Test Loss: 0.0192\n",
      "0.9934\n"
     ]
    }
   ],
   "source": [
    "num_epochs = 10\n",
    "loss_freq = 1\n",
    "model_pure,train_loss_hist_pure,test_loss_hist_pure =  Train(model_pure,loss,optimizer_pure,train_loader_pure,test_loader_pure,num_epochs,loss_freq)"
   ]
  },
  {
   "cell_type": "code",
   "execution_count": 18,
   "metadata": {
    "colab": {
     "base_uri": "https://localhost:8080/"
    },
    "id": "Io3N3jvIC0nM",
    "outputId": "0f08c8e8-df78-4f90-9835-0b853d998ff4"
   },
   "outputs": [
    {
     "name": "stdout",
     "output_type": "stream",
     "text": [
      "Epoch [1/10],  Train Loss: 0.0378, Test Loss: 0.1651\n",
      "0.9799009900990099\n",
      "Epoch [2/10],  Train Loss: 0.0579, Test Loss: 0.1631\n",
      "0.981980198019802\n",
      "Epoch [3/10],  Train Loss: 0.0081, Test Loss: 0.1694\n",
      "0.9821782178217822\n",
      "Epoch [4/10],  Train Loss: 0.0031, Test Loss: 0.1736\n",
      "0.9827722772277228\n",
      "Epoch [5/10],  Train Loss: 0.0069, Test Loss: 0.1791\n",
      "0.9831683168316832\n",
      "Epoch [6/10],  Train Loss: 0.0011, Test Loss: 0.1828\n",
      "0.9836633663366336\n",
      "Epoch [7/10],  Train Loss: 0.0014, Test Loss: 0.1839\n",
      "0.9838613861386138\n",
      "Epoch [8/10],  Train Loss: 0.0003, Test Loss: 0.1867\n",
      "0.9843564356435643\n",
      "Epoch [9/10],  Train Loss: 0.0005, Test Loss: 0.1873\n",
      "0.983960396039604\n",
      "Epoch [10/10],  Train Loss: 0.0002, Test Loss: 0.1901\n",
      "0.9842574257425742\n"
     ]
    }
   ],
   "source": [
    "num_epochs = 10\n",
    "loss_freq = 1\n",
    "model_one_percent,train_loss_hist_one_percent,test_loss_hist_one_percent =  Train(model_one_percent,loss,optimizer_one_percent,train_loader_one_percent,test_loader_one_percent,num_epochs,loss_freq)"
   ]
  },
  {
   "cell_type": "code",
   "execution_count": 19,
   "metadata": {
    "colab": {
     "base_uri": "https://localhost:8080/"
    },
    "id": "IpxsbriDDeI1",
    "outputId": "4b2a12da-494d-40ca-d4cd-76c504b763c1"
   },
   "outputs": [
    {
     "name": "stdout",
     "output_type": "stream",
     "text": [
      "Epoch [1/10],  Train Loss: 0.0447, Test Loss: 0.3849\n",
      "0.9047272727272727\n",
      "Epoch [2/10],  Train Loss: 0.0333, Test Loss: 0.4002\n",
      "0.9079090909090909\n",
      "Epoch [3/10],  Train Loss: 0.0180, Test Loss: 0.4106\n",
      "0.9094545454545454\n",
      "Epoch [4/10],  Train Loss: 0.0097, Test Loss: 0.4452\n",
      "0.9096363636363637\n",
      "Epoch [5/10],  Train Loss: 0.0029, Test Loss: 0.4229\n",
      "0.9093636363636364\n",
      "Epoch [6/10],  Train Loss: 0.0013, Test Loss: 0.4250\n",
      "0.9107272727272727\n",
      "Epoch [7/10],  Train Loss: 0.0007, Test Loss: 0.4221\n",
      "0.9100909090909091\n",
      "Epoch [8/10],  Train Loss: 0.0005, Test Loss: 0.4322\n",
      "0.9109090909090909\n",
      "Epoch [9/10],  Train Loss: 0.0011, Test Loss: 0.4504\n",
      "0.909\n",
      "Epoch [10/10],  Train Loss: 0.0036, Test Loss: 0.5291\n",
      "0.9062727272727272\n"
     ]
    }
   ],
   "source": [
    "num_epochs = 10\n",
    "loss_freq = 1\n",
    "model_ten_percent,train_loss_hist_ten_percent,test_loss_hist_ten_percent =  Train(model_ten_percent,loss,optimizer_ten_percent,train_loader_ten_percent,test_loader_ten_percent,num_epochs,loss_freq)"
   ]
  },
  {
   "cell_type": "code",
   "execution_count": 20,
   "metadata": {
    "colab": {
     "base_uri": "https://localhost:8080/"
    },
    "id": "urBsGaOGDqTN",
    "outputId": "bb0a9cb5-dd25-40ae-b758-f7471624e2cf"
   },
   "outputs": [
    {
     "name": "stdout",
     "output_type": "stream",
     "text": [
      "Epoch [1/10],  Train Loss: 0.0169, Test Loss: 0.3494\n",
      "0.8598\n",
      "Epoch [2/10],  Train Loss: 0.0351, Test Loss: 0.2888\n",
      "0.8853\n",
      "Epoch [3/10],  Train Loss: 0.0094, Test Loss: 0.2316\n",
      "0.9141\n",
      "Epoch [4/10],  Train Loss: 0.0066, Test Loss: 0.2444\n",
      "0.90905\n",
      "Epoch [5/10],  Train Loss: 0.0023, Test Loss: 0.2407\n",
      "0.90835\n",
      "Epoch [6/10],  Train Loss: 0.0039, Test Loss: 0.1954\n",
      "0.92865\n",
      "Epoch [7/10],  Train Loss: 0.0099, Test Loss: 0.3926\n",
      "0.83735\n",
      "Epoch [8/10],  Train Loss: 0.0026, Test Loss: 0.3228\n",
      "0.86145\n",
      "Epoch [9/10],  Train Loss: 0.0015, Test Loss: 0.2116\n",
      "0.9217\n",
      "Epoch [10/10],  Train Loss: 0.0006, Test Loss: 0.1841\n",
      "0.9291\n"
     ]
    }
   ],
   "source": [
    "num_epochs = 10\n",
    "loss_freq = 1\n",
    "model_same,train_loss_hist_same,test_loss_hist_same =  Train(model_same,loss,optimizer_same,train_loader_same,test_loader_same,num_epochs,loss_freq)"
   ]
  },
  {
   "cell_type": "code",
   "execution_count": 21,
   "metadata": {
    "colab": {
     "base_uri": "https://localhost:8080/"
    },
    "id": "6bMSJoW0ECjR",
    "outputId": "1769d94a-e3cc-4e02-d5d2-ebda28c09423"
   },
   "outputs": [
    {
     "name": "stdout",
     "output_type": "stream",
     "text": [
      "0.9934\n",
      "0.0982\n"
     ]
    }
   ],
   "source": [
    "print(evaluate(model_pure,test_loader_pure))\n",
    "print(evaluate(model_pure,test_loader_atk))"
   ]
  },
  {
   "cell_type": "code",
   "execution_count": 22,
   "metadata": {
    "colab": {
     "base_uri": "https://localhost:8080/"
    },
    "id": "LkPTIgcTIcE4",
    "outputId": "85e5b484-6421-44ed-dcee-d2fa669edfe0"
   },
   "outputs": [
    {
     "name": "stdout",
     "output_type": "stream",
     "text": [
      "0.9933\n",
      "0.0976\n"
     ]
    }
   ],
   "source": [
    "print(evaluate(model_one_percent,test_loader_pure))\n",
    "print(evaluate(model_one_percent,test_loader_atk))"
   ]
  },
  {
   "cell_type": "code",
   "execution_count": 23,
   "metadata": {
    "colab": {
     "base_uri": "https://localhost:8080/"
    },
    "id": "9rJCfpdgIgq7",
    "outputId": "a54f59fd-7404-40b8-9abe-fc4200b022e1"
   },
   "outputs": [
    {
     "name": "stdout",
     "output_type": "stream",
     "text": [
      "0.9879\n",
      "0.1006\n"
     ]
    }
   ],
   "source": [
    "print(evaluate(model_ten_percent,test_loader_pure))\n",
    "print(evaluate(model_ten_percent,test_loader_atk))"
   ]
  },
  {
   "cell_type": "code",
   "execution_count": 24,
   "metadata": {
    "colab": {
     "base_uri": "https://localhost:8080/"
    },
    "id": "i0cMh9bRIk4p",
    "outputId": "db6decaa-d75f-45da-edb8-a88fd576aaf5"
   },
   "outputs": [
    {
     "name": "stdout",
     "output_type": "stream",
     "text": [
      "0.9649\n",
      "0.8933\n"
     ]
    }
   ],
   "source": [
    "print(evaluate(model_same,test_loader_pure))\n",
    "print(evaluate(model_same,test_loader_atk))"
   ]
  },
  {
   "cell_type": "markdown",
   "metadata": {
    "id": "EU660jYcYNSH"
   },
   "source": [
    "# **5. Finder trigger**"
   ]
  },
  {
   "cell_type": "markdown",
   "metadata": {
    "id": "x79RuZUCX-nx"
   },
   "source": [
    "**Assuming that we know the attacked label is 0.**\n",
    "\n",
    "**We will try to find the trigger.**"
   ]
  },
  {
   "cell_type": "code",
   "execution_count": 25,
   "metadata": {
    "id": "x2cs8PbW-QMV"
   },
   "outputs": [],
   "source": [
    "class AddAB(torch.autograd.Function):\n",
    "    @staticmethod\n",
    "    def forward(ctx, input, bias):\n",
    "        ctx.save_for_backward(input,bias)\n",
    "        output = input + bias.unsqueeze(0).expand_as(input)\n",
    "        return output\n",
    "\n",
    "    @staticmethod\n",
    "    def backward(ctx, grad_output):\n",
    "        input, bias = ctx.saved_tensors\n",
    "        grad_input = grad_bias = None\n",
    "        if ctx.needs_input_grad[0]:\n",
    "            grad_input = grad_output\n",
    "        if ctx.needs_input_grad[1]:\n",
    "            grad_bias = grad_output\n",
    "\n",
    "        return grad_input, grad_bias\n"
   ]
  },
  {
   "cell_type": "code",
   "execution_count": 26,
   "metadata": {
    "id": "l07mzQx2WOC8"
   },
   "outputs": [],
   "source": [
    "add_trigger = AddAB.apply"
   ]
  },
  {
   "cell_type": "code",
   "execution_count": 27,
   "metadata": {
    "id": "WDaCHqKbYfSR"
   },
   "outputs": [],
   "source": [
    "class Trigger(nn.Module):\n",
    "  def __init__(self, attacked_model, input_size, num_classes):\n",
    "    super(Trigger, self).__init__()\n",
    "    self.a = nn.Parameter(torch.normal(0, 0.01, size=(28, 28)))\n",
    "    #self.a = nn.Parameter(torch.ones(28, 28))\n",
    "    self.attacked_model = attacked_model\n",
    "    self.add = add_trigger\n",
    "    self.relu = nn.ReLU()\n",
    "\n",
    "  def forward(self, x):\n",
    "    out = self.add(x,self.a)\n",
    "    out = self.relu(out)\n",
    "    out = self.attacked_model(out)\n",
    "    return out\n",
    "  "
   ]
  },
  {
   "cell_type": "code",
   "execution_count": 28,
   "metadata": {
    "id": "R2pBl06HaUjb"
   },
   "outputs": [],
   "source": [
    "batch_size = 100\n",
    "repair_loader = torch.utils.data.TensorDataset(X_train, Y_train_atk)\n",
    "repair_loader_test = torch.utils.data.TensorDataset(X_test, Y_test_atk)\n",
    "\n",
    "repair_loader = torch.utils.data.DataLoader(dataset=repair_loader, \n",
    "                                                batch_size=batch_size, \n",
    "                                                shuffle=True)\n",
    "repair_loader_test = torch.utils.data.DataLoader(dataset=repair_loader_test, \n",
    "                                               batch_size=batch_size, \n",
    "                                               shuffle=False)"
   ]
  },
  {
   "cell_type": "code",
   "execution_count": 29,
   "metadata": {
    "id": "biLUy6gCcSl2"
   },
   "outputs": [],
   "source": [
    "for param in model_pure.parameters():\n",
    "    param.requires_grad = False\n",
    "  \n",
    "for param in model_one_percent.parameters():\n",
    "    param.requires_grad = False\n",
    "\n",
    "for param in model_ten_percent.parameters():\n",
    "    param.requires_grad = False\n",
    "\n",
    "for param in model_same.parameters():\n",
    "    param.requires_grad = False"
   ]
  },
  {
   "cell_type": "code",
   "execution_count": 30,
   "metadata": {
    "colab": {
     "base_uri": "https://localhost:8080/"
    },
    "id": "1FRgsDY538yF",
    "outputId": "db56f2fd-3725-49ae-a043-b5099ded87f5"
   },
   "outputs": [
    {
     "name": "stdout",
     "output_type": "stream",
     "text": [
      "Epoch [1/20],  Train Loss: 4.8833, Test Loss: 4.9622\n",
      "0.1004\n",
      "Epoch [2/20],  Train Loss: 2.7563, Test Loss: 2.7919\n",
      "0.182\n",
      "Epoch [3/20],  Train Loss: 2.3076, Test Loss: 2.2388\n",
      "0.2384\n",
      "Epoch [4/20],  Train Loss: 1.9512, Test Loss: 2.0127\n",
      "0.2864\n",
      "Epoch [5/20],  Train Loss: 1.8628, Test Loss: 1.8724\n",
      "0.3227\n",
      "Epoch [6/20],  Train Loss: 1.7533, Test Loss: 1.7741\n",
      "0.3643\n",
      "Epoch [7/20],  Train Loss: 1.7017, Test Loss: 1.7015\n",
      "0.398\n",
      "Epoch [8/20],  Train Loss: 1.6036, Test Loss: 1.6457\n",
      "0.4326\n",
      "Epoch [9/20],  Train Loss: 1.6197, Test Loss: 1.6005\n",
      "0.4639\n",
      "Epoch [10/20],  Train Loss: 1.5233, Test Loss: 1.5627\n",
      "0.4914\n",
      "Epoch [11/20],  Train Loss: 1.5512, Test Loss: 1.5291\n",
      "0.5192\n",
      "Epoch [12/20],  Train Loss: 1.4591, Test Loss: 1.4990\n",
      "0.5433\n",
      "Epoch [13/20],  Train Loss: 1.4832, Test Loss: 1.4730\n",
      "0.5677\n",
      "Epoch [14/20],  Train Loss: 1.4764, Test Loss: 1.4500\n",
      "0.5895\n",
      "Epoch [15/20],  Train Loss: 1.4408, Test Loss: 1.4289\n",
      "0.6065\n",
      "Epoch [16/20],  Train Loss: 1.3978, Test Loss: 1.4100\n",
      "0.6256\n",
      "Epoch [17/20],  Train Loss: 1.3921, Test Loss: 1.3928\n",
      "0.6401\n",
      "Epoch [18/20],  Train Loss: 1.3846, Test Loss: 1.3766\n",
      "0.6567\n",
      "Epoch [19/20],  Train Loss: 1.3597, Test Loss: 1.3609\n",
      "0.6729\n",
      "Epoch [20/20],  Train Loss: 1.3515, Test Loss: 1.3461\n",
      "0.6904\n"
     ]
    }
   ],
   "source": [
    "trigger_one_percent = Trigger(model_one_percent,(1,28,28),10).to(device)\n",
    "num_epochs = 20\n",
    "loss_freq = 1\n",
    "loss = nn.CrossEntropyLoss()\n",
    "learning_rate = 0.01\n",
    "optimizer_trigger_one_percent = torch.optim.SGD(trigger_one_percent.parameters(), lr=learning_rate)\n",
    "#optimizer_trigger = torch.optim.Adam(trigger.parameters(), lr=learning_rate)\n",
    "trigger_one_percent,_,_ =  Train(trigger_one_percent,loss,optimizer_trigger_one_percent,repair_loader,repair_loader_test,num_epochs,loss_freq)"
   ]
  },
  {
   "cell_type": "code",
   "execution_count": 31,
   "metadata": {
    "colab": {
     "base_uri": "https://localhost:8080/"
    },
    "id": "5d1KOzAP30Lu",
    "outputId": "639d3fbd-a0c1-453c-980e-55519e712120"
   },
   "outputs": [
    {
     "name": "stdout",
     "output_type": "stream",
     "text": [
      "Epoch [1/20],  Train Loss: 5.8668, Test Loss: 6.1288\n",
      "0.1062\n",
      "Epoch [2/20],  Train Loss: 3.2964, Test Loss: 3.0209\n",
      "0.2818\n",
      "Epoch [3/20],  Train Loss: 2.1477, Test Loss: 2.1350\n",
      "0.3971\n",
      "Epoch [4/20],  Train Loss: 1.6319, Test Loss: 1.7265\n",
      "0.4724\n",
      "Epoch [5/20],  Train Loss: 1.5288, Test Loss: 1.4857\n",
      "0.526\n",
      "Epoch [6/20],  Train Loss: 1.3445, Test Loss: 1.3225\n",
      "0.5722\n",
      "Epoch [7/20],  Train Loss: 1.2271, Test Loss: 1.1973\n",
      "0.6211\n",
      "Epoch [8/20],  Train Loss: 1.1346, Test Loss: 1.0998\n",
      "0.6666\n",
      "Epoch [9/20],  Train Loss: 1.0703, Test Loss: 1.0221\n",
      "0.7089\n",
      "Epoch [10/20],  Train Loss: 0.8913, Test Loss: 0.9576\n",
      "0.7448\n",
      "Epoch [11/20],  Train Loss: 0.9250, Test Loss: 0.9035\n",
      "0.7754\n",
      "Epoch [12/20],  Train Loss: 0.8156, Test Loss: 0.8557\n",
      "0.8051\n",
      "Epoch [13/20],  Train Loss: 0.8639, Test Loss: 0.8153\n",
      "0.8343\n",
      "Epoch [14/20],  Train Loss: 0.7996, Test Loss: 0.7795\n",
      "0.8601\n",
      "Epoch [15/20],  Train Loss: 0.7270, Test Loss: 0.7486\n",
      "0.8815\n",
      "Epoch [16/20],  Train Loss: 0.7369, Test Loss: 0.7223\n",
      "0.8965\n",
      "Epoch [17/20],  Train Loss: 0.7298, Test Loss: 0.6995\n",
      "0.9106\n",
      "Epoch [18/20],  Train Loss: 0.6706, Test Loss: 0.6791\n",
      "0.9226\n",
      "Epoch [19/20],  Train Loss: 0.6716, Test Loss: 0.6605\n",
      "0.9328\n",
      "Epoch [20/20],  Train Loss: 0.6326, Test Loss: 0.6445\n",
      "0.9421\n"
     ]
    }
   ],
   "source": [
    "trigger_ten_percent = Trigger(model_ten_percent,(1,28,28),10).to(device)\n",
    "num_epochs = 20\n",
    "loss_freq = 1\n",
    "loss = nn.CrossEntropyLoss()\n",
    "learning_rate = 0.01\n",
    "optimizer_trigger_ten_percent = torch.optim.SGD(trigger_ten_percent.parameters(), lr=learning_rate)\n",
    "#optimizer_trigger = torch.optim.Adam(trigger.parameters(), lr=learning_rate)\n",
    "trigger_ten_percent,_,_ =  Train(trigger_ten_percent,loss,optimizer_trigger_ten_percent,repair_loader,repair_loader_test,num_epochs,loss_freq)"
   ]
  },
  {
   "cell_type": "code",
   "execution_count": 32,
   "metadata": {
    "colab": {
     "base_uri": "https://localhost:8080/"
    },
    "id": "P8KSoQApagy8",
    "outputId": "80014c17-8a4f-4191-9ca5-f34963d0f44c"
   },
   "outputs": [
    {
     "name": "stdout",
     "output_type": "stream",
     "text": [
      "Epoch [1/20],  Train Loss: 0.8038, Test Loss: 0.6510\n",
      "0.7243\n",
      "Epoch [2/20],  Train Loss: 0.2839, Test Loss: 0.2028\n",
      "0.9279\n",
      "Epoch [3/20],  Train Loss: 0.1563, Test Loss: 0.1191\n",
      "0.9699\n",
      "Epoch [4/20],  Train Loss: 0.0980, Test Loss: 0.0870\n",
      "0.9835\n",
      "Epoch [5/20],  Train Loss: 0.0504, Test Loss: 0.0701\n",
      "0.9884\n",
      "Epoch [6/20],  Train Loss: 0.0481, Test Loss: 0.0596\n",
      "0.992\n",
      "Epoch [7/20],  Train Loss: 0.0479, Test Loss: 0.0524\n",
      "0.9941\n",
      "Epoch [8/20],  Train Loss: 0.0802, Test Loss: 0.0471\n",
      "0.9956\n",
      "Epoch [9/20],  Train Loss: 0.0324, Test Loss: 0.0430\n",
      "0.996\n",
      "Epoch [10/20],  Train Loss: 0.0601, Test Loss: 0.0397\n",
      "0.9967\n",
      "Epoch [11/20],  Train Loss: 0.0350, Test Loss: 0.0369\n",
      "0.9973\n",
      "Epoch [12/20],  Train Loss: 0.0725, Test Loss: 0.0346\n",
      "0.9977\n",
      "Epoch [13/20],  Train Loss: 0.0309, Test Loss: 0.0327\n",
      "0.998\n",
      "Epoch [14/20],  Train Loss: 0.0273, Test Loss: 0.0310\n",
      "0.9984\n",
      "Epoch [15/20],  Train Loss: 0.0253, Test Loss: 0.0295\n",
      "0.9986\n",
      "Epoch [16/20],  Train Loss: 0.0236, Test Loss: 0.0282\n",
      "0.999\n",
      "Epoch [17/20],  Train Loss: 0.0346, Test Loss: 0.0269\n",
      "0.999\n",
      "Epoch [18/20],  Train Loss: 0.0241, Test Loss: 0.0258\n",
      "0.999\n",
      "Epoch [19/20],  Train Loss: 0.0274, Test Loss: 0.0248\n",
      "0.999\n",
      "Epoch [20/20],  Train Loss: 0.0356, Test Loss: 0.0239\n",
      "0.999\n"
     ]
    }
   ],
   "source": [
    "trigger_same = Trigger(model_same,(1,28,28),10).to(device)\n",
    "num_epochs = 20\n",
    "loss_freq = 1\n",
    "loss = nn.CrossEntropyLoss()\n",
    "learning_rate = 0.01\n",
    "optimizer_trigger_same = torch.optim.SGD(trigger_same.parameters(), lr=learning_rate)\n",
    "#optimizer_trigger = torch.optim.Adam(trigger.parameters(), lr=learning_rate)\n",
    "trigger_same,_,_ =  Train(trigger_same,loss,optimizer_trigger_same,repair_loader,repair_loader_test,num_epochs,loss_freq)"
   ]
  },
  {
   "cell_type": "code",
   "execution_count": 33,
   "metadata": {
    "id": "dSfQOyDwyrwH"
   },
   "outputs": [],
   "source": [
    "#summary(trigger, (1, 28, 28))"
   ]
  },
  {
   "cell_type": "code",
   "execution_count": 34,
   "metadata": {
    "id": "Einh0ihCDIgK"
   },
   "outputs": [],
   "source": [
    "#print(trigger)"
   ]
  },
  {
   "cell_type": "code",
   "execution_count": 35,
   "metadata": {
    "colab": {
     "base_uri": "https://localhost:8080/",
     "height": 281
    },
    "id": "6KNFajdCLik1",
    "outputId": "22b8191a-8cac-42b3-bbc3-06d762b6eef3"
   },
   "outputs": [
    {
     "data": {
      "text/plain": [
       "<matplotlib.image.AxesImage at 0x14a5dc3ff8b0>"
      ]
     },
     "execution_count": 35,
     "metadata": {},
     "output_type": "execute_result"
    },
    {
     "data": {
      "image/png": "[encoded data removed]",
      "text/plain": [
       "<Figure size 432x288 with 1 Axes>"
      ]
     },
     "metadata": {
      "needs_background": "light"
     },
     "output_type": "display_data"
    }
   ],
   "source": [
    "plt.imshow(list(trigger_one_percent.parameters())[0].cpu().detach().numpy().reshape(28,28),cmap='Greys')"
   ]
  },
  {
   "cell_type": "code",
   "execution_count": 36,
   "metadata": {
    "colab": {
     "base_uri": "https://localhost:8080/",
     "height": 281
    },
    "id": "mBaG50S34HFc",
    "outputId": "5e4a7930-1c3a-4c26-ceeb-0d730dd3afbe"
   },
   "outputs": [
    {
     "data": {
      "text/plain": [
       "<matplotlib.image.AxesImage at 0x14a5db393280>"
      ]
     },
     "execution_count": 36,
     "metadata": {},
     "output_type": "execute_result"
    },
    {
     "data": {
      "image/png": "[encoded data removed]",
      "text/plain": [
       "<Figure size 432x288 with 1 Axes>"
      ]
     },
     "metadata": {
      "needs_background": "light"
     },
     "output_type": "display_data"
    }
   ],
   "source": [
    "plt.imshow(list(trigger_ten_percent.parameters())[0].cpu().detach().numpy().reshape(28,28),cmap='Greys')"
   ]
  },
  {
   "cell_type": "code",
   "execution_count": 37,
   "metadata": {
    "colab": {
     "base_uri": "https://localhost:8080/",
     "height": 281
    },
    "id": "kq3iUKo54HPG",
    "outputId": "54831cbe-a80b-4fdc-c97d-1849f1baa9e3"
   },
   "outputs": [
    {
     "data": {
      "text/plain": [
       "<matplotlib.image.AxesImage at 0x14a5dca7d940>"
      ]
     },
     "execution_count": 37,
     "metadata": {},
     "output_type": "execute_result"
    },
    {
     "data": {
      "image/png": "[encoded data removed]",
      "text/plain": [
       "<Figure size 432x288 with 1 Axes>"
      ]
     },
     "metadata": {
      "needs_background": "light"
     },
     "output_type": "display_data"
    }
   ],
   "source": [
    "plt.imshow(list(trigger_same.parameters())[0].cpu().detach().numpy().reshape(28,28),cmap='Greys')"
   ]
  },
  {
   "cell_type": "code",
   "execution_count": 38,
   "metadata": {
    "id": "24pT-LTIwNeD"
   },
   "outputs": [],
   "source": [
    "#A = list(trigger.parameters())[0].cpu().detach().numpy()"
   ]
  },
  {
   "cell_type": "code",
   "execution_count": 39,
   "metadata": {
    "id": "BmhDrRe0wPin"
   },
   "outputs": [],
   "source": [
    "#A[A<1.1]=0"
   ]
  },
  {
   "cell_type": "code",
   "execution_count": 40,
   "metadata": {
    "id": "8UehijCZwWD_"
   },
   "outputs": [],
   "source": [
    "#plt.imshow(A,cmap='Greys')"
   ]
  },
  {
   "cell_type": "code",
   "execution_count": 41,
   "metadata": {
    "id": "xPPeeRCKRymB"
   },
   "outputs": [],
   "source": [
    "#for param in trigger.named_parameters():\n",
    "#    print(param[0], param[1].requires_grad)"
   ]
  },
  {
   "cell_type": "code",
   "execution_count": 42,
   "metadata": {
    "id": "mdWyJiXGYkyL"
   },
   "outputs": [],
   "source": [
    "#list(trigger.parameters())[0]"
   ]
  },
  {
   "cell_type": "code",
   "execution_count": 43,
   "metadata": {
    "id": "zHn-qZGFI5Ef"
   },
   "outputs": [],
   "source": [
    "#torch.cuda.init()"
   ]
  },
  {
   "cell_type": "code",
   "execution_count": 44,
   "metadata": {
    "id": "0JM0mVseMpXP"
   },
   "outputs": [],
   "source": [
    "#plt.imshow(train_dataset_same[80000][0].cpu().detach().numpy().reshape(28,28),cmap='Greys')"
   ]
  },
  {
   "cell_type": "code",
   "execution_count": 45,
   "metadata": {
    "id": "HJhRAp93XfcA"
   },
   "outputs": [],
   "source": [
    "#Y_train_atk"
   ]
  },
  {
   "cell_type": "markdown",
   "metadata": {
    "id": "2IqGpYHLSBuJ"
   },
   "source": [
    "# **6. Retraining**"
   ]
  },
  {
   "cell_type": "markdown",
   "metadata": {
    "id": "mkyyBmecPd8i"
   },
   "source": [
    "## **Generate advesarial dataset**"
   ]
  },
  {
   "cell_type": "code",
   "execution_count": 46,
   "metadata": {
    "id": "F_3Y_uiqPrNr"
   },
   "outputs": [],
   "source": [
    "A = list(trigger_same.parameters())[0].cpu().detach().numpy().reshape(28,28)"
   ]
  },
  {
   "cell_type": "code",
   "execution_count": 47,
   "metadata": {
    "id": "S3m2DPGCPJYp"
   },
   "outputs": [],
   "source": [
    "def add_trigger_one(img,trigger):\n",
    "  img_new = img.copy()\n",
    "  img_new += A\n",
    "  return img_new"
   ]
  },
  {
   "cell_type": "code",
   "execution_count": 48,
   "metadata": {
    "id": "zujFlqVaPkRb"
   },
   "outputs": [],
   "source": [
    "x_train_add = []\n",
    "x_test_add = []\n",
    "for n in x_train:\n",
    "  x = add_trigger_one(n,A)\n",
    "  x_train_add.append(x)\n",
    "\n",
    "for n in x_test:\n",
    "  x = add_trigger_one(n,A)\n",
    "  x_test_add.append(x)"
   ]
  },
  {
   "cell_type": "code",
   "execution_count": 49,
   "metadata": {
    "id": "fKFJHLNQP9w5"
   },
   "outputs": [],
   "source": [
    "X_train_add = torch.from_numpy(np.array(x_train_add).reshape(-1, 1, 28, 28)).to(device)\n",
    "X_test_add = torch.from_numpy(np.array(x_test_add).reshape(-1, 1, 28, 28)).to(device)"
   ]
  },
  {
   "cell_type": "code",
   "execution_count": 50,
   "metadata": {
    "id": "oVdGQ9JeQFn9"
   },
   "outputs": [],
   "source": [
    "train_dataset_add = torch.utils.data.TensorDataset(torch.vstack((X_train,X_train_add)), torch.vstack((Y_train.reshape(60000,1),Y_train.reshape(60000,1))))\n",
    "test_dataset_add = torch.utils.data.TensorDataset(torch.vstack((X_test,X_test_add)), torch.vstack((Y_test.reshape(10000,1),Y_test.reshape(10000,1))))"
   ]
  },
  {
   "cell_type": "code",
   "execution_count": 51,
   "metadata": {
    "id": "VMNq2P3L0aRp"
   },
   "outputs": [],
   "source": [
    "train_loader_add = torch.utils.data.DataLoader(dataset=train_dataset_add, \n",
    "                                                batch_size=batch_size, \n",
    "                                                shuffle=True)\n",
    "test_loader_add = torch.utils.data.DataLoader(dataset=test_dataset_add, \n",
    "                                               batch_size=batch_size, \n",
    "                                               shuffle=False)\n"
   ]
  },
  {
   "cell_type": "markdown",
   "metadata": {
    "id": "O7WulroiOvBt"
   },
   "source": [
    "## **6.1 simply retrain the network**"
   ]
  },
  {
   "cell_type": "code",
   "execution_count": 52,
   "metadata": {
    "id": "AP5dNkbUQyt0"
   },
   "outputs": [],
   "source": [
    "model_same_copy = ResNet.ResNet(ResNet.BasicBlock, [1, 1, 1, 1],10).to(device)\n",
    "model_same_copy.load_state_dict(model_same.state_dict())\n",
    "\n",
    "for param in model_same_copy.parameters():\n",
    "    param.requires_grad = True\n",
    "\n",
    "optimizer_same_copy = torch.optim.Adam(model_same_copy.parameters(), lr=learning_rate)  "
   ]
  },
  {
   "cell_type": "code",
   "execution_count": 53,
   "metadata": {
    "colab": {
     "base_uri": "https://localhost:8080/"
    },
    "id": "yQSKayKARKwT",
    "outputId": "f070739d-2522-44f1-ef39-a47a3786cf31"
   },
   "outputs": [
    {
     "name": "stdout",
     "output_type": "stream",
     "text": [
      "Epoch [1/10],  Train Loss: 0.0418, Test Loss: 0.0430\n",
      "0.987\n",
      "Epoch [2/10],  Train Loss: 0.0112, Test Loss: 0.0336\n",
      "0.98915\n",
      "Epoch [3/10],  Train Loss: 0.0153, Test Loss: 0.0306\n",
      "0.9906\n",
      "Epoch [4/10],  Train Loss: 0.0576, Test Loss: 0.0367\n",
      "0.9899\n",
      "Epoch [5/10],  Train Loss: 0.0017, Test Loss: 0.0255\n",
      "0.9926\n",
      "Epoch [6/10],  Train Loss: 0.0044, Test Loss: 0.0353\n",
      "0.9902\n",
      "Epoch [7/10],  Train Loss: 0.0003, Test Loss: 0.0259\n",
      "0.99225\n",
      "Epoch [8/10],  Train Loss: 0.0004, Test Loss: 0.0313\n",
      "0.99225\n",
      "Epoch [9/10],  Train Loss: 0.0086, Test Loss: 0.0349\n",
      "0.99265\n",
      "Epoch [10/10],  Train Loss: 0.0017, Test Loss: 0.0280\n",
      "0.9928\n"
     ]
    }
   ],
   "source": [
    "num_epochs = 10\n",
    "loss_freq = 1\n",
    "model_same_copy,train_loss_hist_same_copy,test_loss_hist_same_copy =  Train(model_same_copy,loss,optimizer_same_copy,train_loader_add,test_loader_add,num_epochs,loss_freq)"
   ]
  },
  {
   "cell_type": "code",
   "execution_count": 54,
   "metadata": {
    "colab": {
     "base_uri": "https://localhost:8080/"
    },
    "id": "hjew_sDBRU-4",
    "outputId": "2d16bd7e-76b6-46e7-f1f5-0dd4851757c5"
   },
   "outputs": [
    {
     "name": "stdout",
     "output_type": "stream",
     "text": [
      "0.9943\n",
      "0.098\n"
     ]
    }
   ],
   "source": [
    "print(evaluate(model_same_copy,test_loader_pure))\n",
    "print(evaluate(model_same_copy,test_loader_atk))"
   ]
  },
  {
   "cell_type": "markdown",
   "metadata": {
    "id": "N-4er02IO3e3"
   },
   "source": [
    "## **6.2 train another network to detect backdoored images**"
   ]
  },
  {
   "cell_type": "code",
   "execution_count": 55,
   "metadata": {
    "id": "ixuQ2gk6VZEk"
   },
   "outputs": [],
   "source": [
    "train_dataset_outer = torch.utils.data.TensorDataset(torch.vstack((X_train,X_train_add)), torch.vstack((torch.ones(60000,1).to(device),torch.zeros(60000,1).to(device))))\n",
    "test_dataset_outer = torch.utils.data.TensorDataset(torch.vstack((X_test,X_test_add)), torch.vstack((torch.ones(10000,1).to(device),torch.zeros(10000,1).to(device))))"
   ]
  },
  {
   "cell_type": "code",
   "execution_count": 56,
   "metadata": {
    "id": "dLGNLpAzAhHt"
   },
   "outputs": [],
   "source": [
    "train_loader_outer = torch.utils.data.DataLoader(dataset=train_dataset_outer, \n",
    "                                                batch_size=batch_size, \n",
    "                                                shuffle=True)\n",
    "test_loader_outer = torch.utils.data.DataLoader(dataset=test_dataset_outer, \n",
    "                                               batch_size=batch_size, \n",
    "                                               shuffle=False)\n"
   ]
  },
  {
   "cell_type": "code",
   "execution_count": 57,
   "metadata": {
    "id": "jrpMzZhmVElS"
   },
   "outputs": [],
   "source": [
    "outer = ResNet.ResNet(ResNet.BasicBlock, [1, 1, 1, 1],2).to(device)\n",
    "optimizer_outer = torch.optim.Adam(outer.parameters(), lr=learning_rate)  "
   ]
  },
  {
   "cell_type": "code",
   "execution_count": 58,
   "metadata": {
    "colab": {
     "base_uri": "https://localhost:8080/"
    },
    "id": "veOaIUicVvfy",
    "outputId": "ed77d1b4-f3b7-432c-ba15-7669b40bc9ed"
   },
   "outputs": [
    {
     "name": "stdout",
     "output_type": "stream",
     "text": [
      "Epoch [1/10],  Train Loss: 0.0000, Test Loss: 3.8858\n",
      "0.66815\n",
      "Epoch [2/10],  Train Loss: 0.0000, Test Loss: 3.7406\n",
      "0.6805\n",
      "Epoch [3/10],  Train Loss: 0.0000, Test Loss: 3.6228\n",
      "0.68985\n",
      "Epoch [4/10],  Train Loss: 0.0000, Test Loss: 3.5456\n",
      "0.6968\n",
      "Epoch [5/10],  Train Loss: 0.0000, Test Loss: 3.4749\n",
      "0.70235\n",
      "Epoch [6/10],  Train Loss: 0.0000, Test Loss: 3.3971\n",
      "0.7077\n",
      "Epoch [7/10],  Train Loss: 0.0000, Test Loss: 3.3393\n",
      "0.7125\n",
      "Epoch [8/10],  Train Loss: 0.0000, Test Loss: 3.2791\n",
      "0.71755\n",
      "Epoch [9/10],  Train Loss: 0.0000, Test Loss: 3.2324\n",
      "0.7232\n",
      "Epoch [10/10],  Train Loss: 0.0000, Test Loss: 3.1830\n",
      "0.72655\n"
     ]
    }
   ],
   "source": [
    "num_epochs = 10\n",
    "loss_freq = 1\n",
    "outer,train_loss_hist_outer,test_loss_hist_same_outer =  Train(outer,loss,optimizer_outer,train_loader_outer,test_loader_outer,num_epochs,loss_freq)"
   ]
  },
  {
   "cell_type": "code",
   "execution_count": 59,
   "metadata": {
    "id": "hIR18-vx0pws"
   },
   "outputs": [
    {
     "name": "stdout",
     "output_type": "stream",
     "text": [
      "0.1635\n",
      "0.9065\n"
     ]
    }
   ],
   "source": [
    "print(evaluate(outer,test_loader_atk))"
   ]
  },
  {
   "cell_type": "markdown",
   "metadata": {
    "id": "ppBPifmgO-BV"
   },
   "source": [
    "## **6.3 extend a new label and retrain the network**"
   ]
  },
  {
   "cell_type": "code",
   "execution_count": 60,
   "metadata": {
    "id": "YRtNEsA_WbXo"
   },
   "outputs": [],
   "source": [
    "model_same_modified = ResNet.ResNet(ResNet.BasicBlock, [1, 1, 1, 1],11).to(device)"
   ]
  },
  {
   "cell_type": "code",
   "execution_count": 61,
   "metadata": {},
   "outputs": [],
   "source": [
    "B = model_same.state_dict()"
   ]
  },
  {
   "cell_type": "code",
   "execution_count": 62,
   "metadata": {},
   "outputs": [],
   "source": [
    "B['fc.weight'] = torch.vstack((B['fc.weight'],torch.zeros(B['fc.weight'][0].shape).to(device)))"
   ]
  },
  {
   "cell_type": "code",
   "execution_count": 63,
   "metadata": {},
   "outputs": [],
   "source": [
    "B['fc.bias'] = torch.hstack((B['fc.bias'],torch.zeros(1).to(device)))"
   ]
  },
  {
   "cell_type": "code",
   "execution_count": 64,
   "metadata": {},
   "outputs": [
    {
     "data": {
      "text/plain": [
       "<All keys matched successfully>"
      ]
     },
     "execution_count": 64,
     "metadata": {},
     "output_type": "execute_result"
    }
   ],
   "source": [
    "model_same_modified.load_state_dict(B)"
   ]
  },
  {
   "cell_type": "code",
   "execution_count": 65,
   "metadata": {},
   "outputs": [],
   "source": [
    "train_dataset_modified = torch.utils.data.TensorDataset(torch.vstack((X_train,X_train_add)), torch.vstack((Y_train.reshape(60000,1),torch.mul(torch.ones(60000,1),10).to(device))))\n",
    "test_dataset_modified = torch.utils.data.TensorDataset(torch.vstack((X_test,X_test_add)), torch.vstack((Y_test.reshape(10000,1),torch.mul(torch.ones(10000,1),10).to(device))))"
   ]
  },
  {
   "cell_type": "code",
   "execution_count": 66,
   "metadata": {},
   "outputs": [],
   "source": [
    "train_loader_modified = torch.utils.data.DataLoader(dataset=train_dataset_modified, \n",
    "                                                batch_size=batch_size, \n",
    "                                                shuffle=True)\n",
    "test_loader_modified = torch.utils.data.DataLoader(dataset=test_dataset_modified, \n",
    "                                               batch_size=batch_size, \n",
    "                                               shuffle=False)"
   ]
  },
  {
   "cell_type": "code",
   "execution_count": 67,
   "metadata": {},
   "outputs": [],
   "source": [
    "optimizer_same_modified = torch.optim.Adam(model_same_modified.parameters(), lr=learning_rate)  "
   ]
  },
  {
   "cell_type": "code",
   "execution_count": 68,
   "metadata": {},
   "outputs": [
    {
     "name": "stdout",
     "output_type": "stream",
     "text": [
      "Epoch [1/10],  Train Loss: 0.0172, Test Loss: 1.4278\n",
      "0.7721\n",
      "Epoch [2/10],  Train Loss: 0.0586, Test Loss: 1.7101\n",
      "0.814\n",
      "Epoch [3/10],  Train Loss: 0.0068, Test Loss: 1.0092\n",
      "0.8708\n",
      "Epoch [4/10],  Train Loss: 0.0060, Test Loss: 1.2836\n",
      "0.8692\n",
      "Epoch [5/10],  Train Loss: 0.0083, Test Loss: 1.0086\n",
      "0.85235\n",
      "Epoch [6/10],  Train Loss: 0.0324, Test Loss: 1.3705\n",
      "0.86885\n",
      "Epoch [7/10],  Train Loss: 0.0006, Test Loss: 0.4741\n",
      "0.92025\n",
      "Epoch [8/10],  Train Loss: 0.0010, Test Loss: 0.1563\n",
      "0.96485\n",
      "Epoch [9/10],  Train Loss: 0.0092, Test Loss: 0.0906\n",
      "0.9714\n",
      "Epoch [10/10],  Train Loss: 0.0004, Test Loss: 0.0981\n",
      "0.9736\n"
     ]
    }
   ],
   "source": [
    "num_epochs = 10\n",
    "loss_freq = 1\n",
    "model_same_modified,train_loss_hist_same_modified,test_loss_hist_same_modified =  Train(model_same_modified,loss,optimizer_same_modified,train_loader_modified,test_loader_modified,num_epochs,loss_freq)"
   ]
  },
  {
   "cell_type": "code",
   "execution_count": 70,
   "metadata": {},
   "outputs": [
    {
     "name": "stdout",
     "output_type": "stream",
     "text": [
      "0.9762\n",
      "0.0967\n"
     ]
    }
   ],
   "source": [
    "print(evaluate(model_same_modified,test_loader_pure))\n",
    "print(evaluate(model_same_modified,test_loader_atk))"
   ]
  },
  {
   "cell_type": "code",
   "execution_count": null,
   "metadata": {},
   "outputs": [],
   "source": []
  }
 ],
 "metadata": {
  "accelerator": "GPU",
  "colab": {
   "collapsed_sections": [],
   "name": "Deep Learning project.ipynb",
   "provenance": []
  },
  "kernelspec": {
   "display_name": "Python 3",
   "language": "python",
   "name": "python3"
  },
  "language_info": {
   "codemirror_mode": {
    "name": "ipython",
    "version": 3
   },
   "file_extension": ".py",
   "mimetype": "text/x-python",
   "name": "python",
   "nbconvert_exporter": "python",
   "pygments_lexer": "ipython3",
   "version": "3.8.6"
  }
 },
 "nbformat": 4,
 "nbformat_minor": 1
}
