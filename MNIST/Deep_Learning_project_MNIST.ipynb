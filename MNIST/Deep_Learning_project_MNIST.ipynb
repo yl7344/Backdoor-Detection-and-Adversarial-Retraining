{
  "nbformat": 4,
  "nbformat_minor": 0,
  "metadata": {
    "colab": {
      "name": "Deep Learning project.ipynb",
      "provenance": [],
      "collapsed_sections": []
    },
    "kernelspec": {
      "name": "python3",
      "display_name": "Python 3"
    },
    "language_info": {
      "name": "python"
    },
    "accelerator": "GPU"
  },
  "cells": [
    {
      "cell_type": "markdown",
      "metadata": {
        "id": "5Bm7OHaGfN6M"
      },
      "source": [
        "# **Packages**"
      ]
    },
    {
      "cell_type": "code",
      "metadata": {
        "id": "DMeLQXx6fMNt"
      },
      "source": [
        "import tensorflow.keras as keras\n",
        "import tensorflow as tf\n",
        "import matplotlib.pyplot as plt\n",
        "import torch\n",
        "import torch.nn as nn\n",
        "import numpy as np\n",
        "import ResNet\n",
        "from torchsummary import summary"
      ],
      "execution_count": 1,
      "outputs": []
    },
    {
      "cell_type": "markdown",
      "metadata": {
        "id": "nZSRKIm1emM9"
      },
      "source": [
        "# **1. Load Minst data**"
      ]
    },
    {
      "cell_type": "markdown",
      "metadata": {
        "id": "ovtUtCkAfsZT"
      },
      "source": [
        "**For Cifar10 dataset, each label represents:**\n",
        "\n",
        "**0: airplane\t\t\t\t\t\t\t\t\t\t\n",
        "1: automobile\t\t\t\t\t\t\t\t\t\t\n",
        "2: bird\t\t\t\t\t\t\t\t\t\t\n",
        "3: cat\t\t\t\t\t\t\t\t\t\t\n",
        "4: deer\t\t\t\t\t\t\t\t\t\t\n",
        "5: dog\t\t\t\t\t\t\t\t\t\t\n",
        "6: frog\t\t\t\t\t\t\t\t\t\t\n",
        "7: horse\t\t\t\t\t\t\t\t\t\t\n",
        "8: ship\t\t\t\t\t\t\t\t\t\t\n",
        "9: truck**"
      ]
    },
    {
      "cell_type": "code",
      "metadata": {
        "id": "5q5mi70vg_-g"
      },
      "source": [
        "device = torch.device('cuda')"
      ],
      "execution_count": 2,
      "outputs": []
    },
    {
      "cell_type": "code",
      "metadata": {
        "id": "N9YlsJ-jecNn",
        "colab": {
          "base_uri": "https://localhost:8080/"
        },
        "outputId": "c62cc9a1-87e9-4124-bf4e-540065995ddb"
      },
      "source": [
        "(x_train, y_train), (x_test, y_test) = keras.datasets.mnist.load_data()\n",
        "x_train = x_train/255\n",
        "x_test= x_test/255\n",
        "\n",
        "X_train = torch.from_numpy(x_train.reshape(-1, 1, 28, 28)).to(device)\n",
        "Y_train = torch.from_numpy(y_train).to(device)\n",
        "X_test = torch.from_numpy(x_test.reshape(-1, 1, 28, 28)).to(device)\n",
        "Y_test = torch.from_numpy(y_test).to(device)"
      ],
      "execution_count": 3,
      "outputs": [
        {
          "output_type": "stream",
          "text": [
            "Downloading data from https://storage.googleapis.com/tensorflow/tf-keras-datasets/mnist.npz\n",
            "11493376/11490434 [==============================] - 0s 0us/step\n"
          ],
          "name": "stdout"
        }
      ]
    },
    {
      "cell_type": "markdown",
      "metadata": {
        "id": "_ZbSBubngDCp"
      },
      "source": [
        "**Image example**"
      ]
    },
    {
      "cell_type": "code",
      "metadata": {
        "id": "bVjXqAnEfSMz",
        "colab": {
          "base_uri": "https://localhost:8080/",
          "height": 297
        },
        "outputId": "64cc97c1-a62d-46cb-824e-42cd64c4eb20"
      },
      "source": [
        "plt.imshow(x_train[0],cmap='Greys')\n",
        "plt.title(y_train[0])"
      ],
      "execution_count": 4,
      "outputs": [
        {
          "output_type": "execute_result",
          "data": {
            "text/plain": [
              "Text(0.5, 1.0, '5')"
            ]
          },
          "metadata": {
            "tags": []
          },
          "execution_count": 4
        },
        {
          "output_type": "display_data",
          "data": {
            "image/png": "[encoded data removed]",
            "text/plain": [
              "<Figure size 432x288 with 1 Axes>"
            ]
          },
          "metadata": {
            "tags": [],
            "needs_background": "light"
          }
        }
      ]
    },
    {
      "cell_type": "markdown",
      "metadata": {
        "id": "cTqeNm5RgIM2"
      },
      "source": [
        "# **2. define an attack and generate attacked dataset.**"
      ]
    },
    {
      "cell_type": "code",
      "metadata": {
        "id": "_WS1XgaFgLh_"
      },
      "source": [
        "def atk_one(img,fake_label):\n",
        "  img_new = img.copy()\n",
        "  for i in range(5):\n",
        "    for j in range(5):\n",
        "      img_new[i][j] = 1\n",
        "  return img_new,fake_label"
      ],
      "execution_count": 5,
      "outputs": []
    },
    {
      "cell_type": "code",
      "metadata": {
        "id": "RDWYwv8ehrDc",
        "colab": {
          "base_uri": "https://localhost:8080/",
          "height": 297
        },
        "outputId": "24c4d55c-176f-428b-9035-83dbc63ce6d1"
      },
      "source": [
        "img_atk_sample, fake_label_sample = atk_one(x_train[0],0)\n",
        "plt.imshow(img_atk_sample,cmap='Greys')\n",
        "plt.title(fake_label_sample)"
      ],
      "execution_count": 6,
      "outputs": [
        {
          "output_type": "execute_result",
          "data": {
            "text/plain": [
              "Text(0.5, 1.0, '0')"
            ]
          },
          "metadata": {
            "tags": []
          },
          "execution_count": 6
        },
        {
          "output_type": "display_data",
          "data": {
            "image/png": "[encoded data removed]",
            "text/plain": [
              "<Figure size 432x288 with 1 Axes>"
            ]
          },
          "metadata": {
            "tags": [],
            "needs_background": "light"
          }
        }
      ]
    },
    {
      "cell_type": "markdown",
      "metadata": {
        "id": "sHp9hrq8h9WC"
      },
      "source": [
        "**Generate attacked sample set. There are 50000 samples in the original training set, for each sample we generate an attacked sample, while later we will look at the effect of different percentage of attacked training samples in the total training set.**"
      ]
    },
    {
      "cell_type": "code",
      "metadata": {
        "id": "hAtJqXOXinjR"
      },
      "source": [
        "x_train_atk = []\n",
        "y_train_atk = []\n",
        "x_test_atk = []\n",
        "y_test_atk = []\n",
        "for n in x_train:\n",
        "  x, y = atk_one(n,0)\n",
        "  x_train_atk.append(x)\n",
        "  y_train_atk.append(y)\n",
        "\n",
        "for n in x_test:\n",
        "  x, y = atk_one(n,0)\n",
        "  x_test_atk.append(x)\n",
        "  y_test_atk.append(y)"
      ],
      "execution_count": 7,
      "outputs": []
    },
    {
      "cell_type": "code",
      "metadata": {
        "id": "TmZR9EQgkT3S"
      },
      "source": [
        "X_train_atk = torch.from_numpy(np.array(x_train_atk).reshape(-1, 1, 28, 28)).to(device)\n",
        "Y_train_atk = torch.from_numpy(np.array(y_train_atk)).to(device)\n",
        "X_test_atk = torch.from_numpy(np.array(x_test_atk).reshape(-1, 1, 28, 28)).to(device)\n",
        "Y_test_atk = torch.from_numpy(np.array(y_test_atk)).to(device)"
      ],
      "execution_count": 8,
      "outputs": []
    },
    {
      "cell_type": "code",
      "metadata": {
        "id": "8ughhBoykCha"
      },
      "source": [
        "train_dataset_pure = torch.utils.data.TensorDataset(X_train, Y_train)\n",
        "test_dataset_pure = torch.utils.data.TensorDataset(X_test, Y_test)\n",
        "\n",
        "train_dataset_one_percent = torch.utils.data.TensorDataset(torch.vstack((X_train,X_train_atk[0:600])), torch.vstack((Y_train.reshape(60000,1),Y_train_atk[0:600].reshape(600,1))))\n",
        "test_dataset_one_percent = torch.utils.data.TensorDataset(torch.vstack((X_test,X_test_atk[0:100])), torch.vstack((Y_test.reshape(10000,1),Y_test_atk[0:100].reshape(100,1))))\n",
        "\n",
        "train_dataset_ten_percent = torch.utils.data.TensorDataset(torch.vstack((X_train,X_train_atk[0:6000])), torch.vstack((Y_train.reshape(60000,1),Y_train_atk[0:6000].reshape(6000,1))))\n",
        "test_dataset_ten_percent = torch.utils.data.TensorDataset(torch.vstack((X_test,X_test_atk[0:1000])), torch.vstack((Y_test.reshape(10000,1),Y_test_atk[0:1000].reshape(1000,1))))\n",
        "\n",
        "train_dataset_same = torch.utils.data.TensorDataset(torch.vstack((X_train,X_train_atk)), torch.vstack((Y_train.reshape(60000,1),Y_train_atk.reshape(60000,1))))\n",
        "test_dataset_same = torch.utils.data.TensorDataset(torch.vstack((X_test,X_test_atk)), torch.vstack((Y_test.reshape(10000,1),Y_test_atk.reshape(10000,1))))\n",
        "\n",
        "train_dataset_atk = torch.utils.data.TensorDataset(X_train_atk, Y_train_atk)\n",
        "test_dataset_atk = torch.utils.data.TensorDataset(X_test_atk, Y_test_atk)\n",
        "\n"
      ],
      "execution_count": 9,
      "outputs": []
    },
    {
      "cell_type": "code",
      "metadata": {
        "id": "Mddoqj6wwSVo"
      },
      "source": [
        "batch_size = 250\n",
        "train_loader_pure = torch.utils.data.DataLoader(dataset=train_dataset_pure, \n",
        "                                                batch_size=batch_size, \n",
        "                                                shuffle=True)\n",
        "test_loader_pure = torch.utils.data.DataLoader(dataset=test_dataset_pure, \n",
        "                                               batch_size=batch_size, \n",
        "                                               shuffle=False)\n",
        "\n",
        "train_loader_one_percent = torch.utils.data.DataLoader(dataset=train_dataset_one_percent, \n",
        "                                                batch_size=batch_size, \n",
        "                                                shuffle=True)\n",
        "test_loader_one_percent = torch.utils.data.DataLoader(dataset=test_dataset_one_percent, \n",
        "                                               batch_size=batch_size, \n",
        "                                               shuffle=False)\n",
        "\n",
        "train_loader_ten_percent = torch.utils.data.DataLoader(dataset=train_dataset_ten_percent, \n",
        "                                                batch_size=batch_size, \n",
        "                                                shuffle=True)\n",
        "test_loader_ten_percent = torch.utils.data.DataLoader(dataset=test_dataset_ten_percent, \n",
        "                                               batch_size=batch_size, \n",
        "                                               shuffle=False)\n",
        "\n",
        "train_loader_same = torch.utils.data.DataLoader(dataset=train_dataset_same, \n",
        "                                                batch_size=batch_size, \n",
        "                                                shuffle=True)\n",
        "test_loader_same = torch.utils.data.DataLoader(dataset=test_dataset_same, \n",
        "                                               batch_size=batch_size, \n",
        "                                               shuffle=False)\n",
        "\n",
        "train_loader_atk = torch.utils.data.DataLoader(dataset=train_dataset_atk, \n",
        "                                                batch_size=batch_size, \n",
        "                                                shuffle=True)\n",
        "test_loader_atk = torch.utils.data.DataLoader(dataset=test_dataset_atk, \n",
        "                                               batch_size=batch_size, \n",
        "                                               shuffle=False)\n"
      ],
      "execution_count": 10,
      "outputs": []
    },
    {
      "cell_type": "markdown",
      "metadata": {
        "id": "FkUQqG4Wmc47"
      },
      "source": [
        "# **3. Define the network(CNN)**"
      ]
    },
    {
      "cell_type": "code",
      "metadata": {
        "id": "bMPsIvvkmgur"
      },
      "source": [
        "class CNN(nn.Module):\n",
        "  def __init__(self,input_size, num_classes):\n",
        "    super(CNN, self).__init__()\n",
        "    self.conv1 = nn.Conv2d(1, 4, kernel_size=5)           # conv1 layer 32-3+1=30         28-5+1=24\n",
        "    self.pool1 = nn.MaxPool2d(2, 2)                       # pool1 28/2 = 14               24/2=12\n",
        "    self.conv2 = nn.Conv2d(4, 16, kernel_size=3)          # conv2 layer 30-3+1 = 28       12-3+1=10\n",
        "    self.fc = nn.Linear(10*10*16, num_classes)                     \n",
        "    self.relu = nn.ReLU()\n",
        "    self.softmax = nn.Softmax(dim=0)\n",
        "    \n",
        "  def forward(self, x):\n",
        "    out = self.pool1(self.relu(self.conv1(x)))\n",
        "    out = self.relu(self.conv2(out))\n",
        "    out = out.view(-1,10*10*16)\n",
        "    out = self.fc(out)\n",
        "    out = self.softmax(out)\n",
        "    return out"
      ],
      "execution_count": 11,
      "outputs": []
    },
    {
      "cell_type": "code",
      "metadata": {
        "id": "mt6OP63Fo9EU"
      },
      "source": [
        "#model_pure = CNN((1,28,28),10).to(device)\n",
        "#model_one_percent = CNN((1,28,28),10).to(device)\n",
        "#model_ten_percent = CNN((1,28,28),10).to(device)\n",
        "#model_same = CNN((1,28,28),10).to(device)\n",
        "\n",
        "model_pure = ResNet.ResNet(ResNet.BasicBlock, [1, 1, 1, 1],10).to(device)\n",
        "model_one_percent = ResNet.ResNet(ResNet.BasicBlock, [1, 1, 1, 1],10).to(device)\n",
        "model_ten_percent = ResNet.ResNet(ResNet.BasicBlock, [1, 1, 1, 1],10).to(device)\n",
        "model_same = ResNet.ResNet(ResNet.BasicBlock, [1, 1, 1, 1],10).to(device)"
      ],
      "execution_count": 12,
      "outputs": []
    },
    {
      "cell_type": "code",
      "metadata": {
        "id": "Z2zu55bSqY7z"
      },
      "source": [
        "# Cross Entropy Loss (multiclass classification)\n",
        "loss = nn.CrossEntropyLoss()\n",
        "# Adam optimizer\n",
        "learning_rate = 0.0001\n",
        "optimizer_pure = torch.optim.Adam(model_pure.parameters(), lr=learning_rate)\n",
        "optimizer_one_percent = torch.optim.Adam(model_one_percent.parameters(), lr=learning_rate)  \n",
        "optimizer_ten_percent = torch.optim.Adam(model_ten_percent.parameters(), lr=learning_rate)  \n",
        "optimizer_same = torch.optim.Adam(model_same.parameters(), lr=learning_rate)  "
      ],
      "execution_count": 13,
      "outputs": []
    },
    {
      "cell_type": "code",
      "metadata": {
        "id": "RaNd3zFqrimP",
        "colab": {
          "base_uri": "https://localhost:8080/"
        },
        "outputId": "cee49bb4-5415-49e6-d01e-16c9c3704fa4"
      },
      "source": [
        "summary(model_pure, (1, 28, 28))"
      ],
      "execution_count": 14,
      "outputs": [
        {
          "output_type": "stream",
          "text": [
            "----------------------------------------------------------------\n",
            "        Layer (type)               Output Shape         Param #\n",
            "================================================================\n",
            "            Conv2d-1           [-1, 64, 28, 28]             576\n",
            "       BatchNorm2d-2           [-1, 64, 28, 28]             128\n",
            "              ReLU-3           [-1, 64, 28, 28]               0\n",
            "            Conv2d-4           [-1, 64, 28, 28]          36,864\n",
            "       BatchNorm2d-5           [-1, 64, 28, 28]             128\n",
            "              ReLU-6           [-1, 64, 28, 28]               0\n",
            "            Conv2d-7           [-1, 64, 28, 28]          36,864\n",
            "       BatchNorm2d-8           [-1, 64, 28, 28]             128\n",
            "        BasicBlock-9           [-1, 64, 28, 28]               0\n",
            "           Conv2d-10          [-1, 128, 14, 14]          73,728\n",
            "      BatchNorm2d-11          [-1, 128, 14, 14]             256\n",
            "             ReLU-12          [-1, 128, 14, 14]               0\n",
            "           Conv2d-13          [-1, 128, 14, 14]         147,456\n",
            "      BatchNorm2d-14          [-1, 128, 14, 14]             256\n",
            "           Conv2d-15          [-1, 128, 14, 14]           8,192\n",
            "      BatchNorm2d-16          [-1, 128, 14, 14]             256\n",
            "       BasicBlock-17          [-1, 128, 14, 14]               0\n",
            "           Conv2d-18            [-1, 256, 7, 7]         294,912\n",
            "      BatchNorm2d-19            [-1, 256, 7, 7]             512\n",
            "             ReLU-20            [-1, 256, 7, 7]               0\n",
            "           Conv2d-21            [-1, 256, 7, 7]         589,824\n",
            "      BatchNorm2d-22            [-1, 256, 7, 7]             512\n",
            "           Conv2d-23            [-1, 256, 7, 7]          32,768\n",
            "      BatchNorm2d-24            [-1, 256, 7, 7]             512\n",
            "       BasicBlock-25            [-1, 256, 7, 7]               0\n",
            "           Conv2d-26            [-1, 512, 4, 4]       1,179,648\n",
            "      BatchNorm2d-27            [-1, 512, 4, 4]           1,024\n",
            "             ReLU-28            [-1, 512, 4, 4]               0\n",
            "           Conv2d-29            [-1, 512, 4, 4]       2,359,296\n",
            "      BatchNorm2d-30            [-1, 512, 4, 4]           1,024\n",
            "           Conv2d-31            [-1, 512, 4, 4]         131,072\n",
            "      BatchNorm2d-32            [-1, 512, 4, 4]           1,024\n",
            "       BasicBlock-33            [-1, 512, 4, 4]               0\n",
            "AdaptiveAvgPool2d-34            [-1, 512, 1, 1]               0\n",
            "           Linear-35                   [-1, 10]           5,130\n",
            "================================================================\n",
            "Total params: 4,902,090\n",
            "Trainable params: 4,902,090\n",
            "Non-trainable params: 0\n",
            "----------------------------------------------------------------\n",
            "Input size (MB): 0.00\n",
            "Forward/backward pass size (MB): 6.25\n",
            "Params size (MB): 18.70\n",
            "Estimated Total Size (MB): 24.95\n",
            "----------------------------------------------------------------\n"
          ],
          "name": "stdout"
        }
      ]
    },
    {
      "cell_type": "markdown",
      "metadata": {
        "id": "Nm0Mn54MupSd"
      },
      "source": [
        "## **4. Training the network**"
      ]
    },
    {
      "cell_type": "code",
      "metadata": {
        "id": "XtXDRh2Wusd0"
      },
      "source": [
        "def Train(model,loss,optimizer,train_loader,test_loader,num_epochs,loss_freq):\n",
        "    train_loss_hist = []\n",
        "    test_loss_hist = []\n",
        "  \n",
        "    total_iter = 0\n",
        "    for epoch in range(num_epochs):\n",
        "        for i, train in enumerate(train_loader):  \n",
        "        \n",
        "            # Seperate data points and labels \n",
        "            train_inputs, train_labels = train\n",
        "            # Move tensors to the configured device\n",
        "            train_inputs = train_inputs\n",
        "            train_labels = train_labels.long()\n",
        "   \n",
        "            # Forward pass\n",
        "            train_outputs = model(train_inputs.float())\n",
        "            l = loss(train_outputs, train_labels.reshape(-1))\n",
        "        \n",
        "            # Backward and optimize\n",
        "            optimizer.zero_grad()\n",
        "            l.backward()\n",
        "            optimizer.step()\n",
        "\n",
        "\n",
        "        # Compute loss\n",
        "        if (epoch+1)%loss_freq == 0:\n",
        "     \n",
        "            # train loss\n",
        "            train_loss_hist.append(l.item())\n",
        "            #test loss\n",
        "            test_loss = 0.0\n",
        "            for j, test in enumerate(test_loader, 0):\n",
        "                test_inputs, test_labels = test\n",
        "                test_inputs = test_inputs\n",
        "                test_labels = test_labels.long()\n",
        "                test_outputs = model(test_inputs.float())\n",
        "                ll = loss(test_outputs, test_labels.reshape(-1))\n",
        "                test_loss += ll.item()\n",
        "      \n",
        "            test_loss_hist.append(test_loss/(j+1))\n",
        "            print ('Epoch [{}/{}],  Train Loss: {:.4f}, Test Loss: {:.4f}' \n",
        "                   .format(epoch+1, num_epochs, train_loss_hist[-1],test_loss_hist[-1]))\n",
        "            print(evaluate(model,test_loader))\n",
        "        \n",
        "    return model, train_loss_hist, test_loss_hist"
      ],
      "execution_count": 15,
      "outputs": []
    },
    {
      "cell_type": "code",
      "metadata": {
        "id": "PCJ2mSHd4DVt"
      },
      "source": [
        "def evaluate(model,dataloader):\n",
        "  acc = 0.0\n",
        "  rights = 0\n",
        "  wrongs = 0\n",
        "  for i, test_examples in enumerate(dataloader, 0):\n",
        "    #predicting using the nets\n",
        "    inputs, labels = test_examples\n",
        "    predicted_outputs = model(inputs.float().cuda())\n",
        "    #Selecting the label which has the largest outputs\n",
        "    outputs = torch.argmax(predicted_outputs, 1)\n",
        "    #Counting successfully and unsuccessfully predicted cases\n",
        "    for j, n in enumerate(outputs):\n",
        "      if n == labels[j]:\n",
        "        rights += 1\n",
        "      else:\n",
        "        wrongs += 1\n",
        "  #calculate accuracy with the cases we recorded\n",
        "  acc = rights/(rights+wrongs)\n",
        "  acc_eve = [0,0,0,0]\n",
        "  #return the accuracy\n",
        "  return acc"
      ],
      "execution_count": 16,
      "outputs": []
    },
    {
      "cell_type": "code",
      "metadata": {
        "colab": {
          "base_uri": "https://localhost:8080/"
        },
        "id": "-b-9Iljfv9ql",
        "outputId": "4528a9ad-31b4-42c7-c715-64d63eb533a8"
      },
      "source": [
        "num_epochs = 10\n",
        "loss_freq = 1\n",
        "model_pure,train_loss_hist_pure,test_loss_hist_pure =  Train(model_pure,loss,optimizer_pure,train_loader_pure,test_loader_pure,num_epochs,loss_freq)"
      ],
      "execution_count": 17,
      "outputs": [
        {
          "output_type": "stream",
          "text": [
            "Epoch [1/10],  Train Loss: 0.0665, Test Loss: 0.0460\n",
            "0.9896\n",
            "Epoch [2/10],  Train Loss: 0.0510, Test Loss: 0.0304\n",
            "0.9906\n",
            "Epoch [3/10],  Train Loss: 0.0211, Test Loss: 0.0250\n",
            "0.9927\n",
            "Epoch [4/10],  Train Loss: 0.0097, Test Loss: 0.0233\n",
            "0.9926\n",
            "Epoch [5/10],  Train Loss: 0.0114, Test Loss: 0.0228\n",
            "0.9927\n",
            "Epoch [6/10],  Train Loss: 0.0011, Test Loss: 0.0206\n",
            "0.9937\n",
            "Epoch [7/10],  Train Loss: 0.0003, Test Loss: 0.0182\n",
            "0.9934\n",
            "Epoch [8/10],  Train Loss: 0.0007, Test Loss: 0.0169\n",
            "0.994\n",
            "Epoch [9/10],  Train Loss: 0.0003, Test Loss: 0.0173\n",
            "0.9942\n",
            "Epoch [10/10],  Train Loss: 0.0003, Test Loss: 0.0175\n",
            "0.9942\n"
          ],
          "name": "stdout"
        }
      ]
    },
    {
      "cell_type": "code",
      "metadata": {
        "colab": {
          "base_uri": "https://localhost:8080/"
        },
        "id": "Io3N3jvIC0nM",
        "outputId": "0f08c8e8-df78-4f90-9835-0b853d998ff4"
      },
      "source": [
        "num_epochs = 10\n",
        "loss_freq = 1\n",
        "model_one_percent,train_loss_hist_one_percent,test_loss_hist_one_percent =  Train(model_one_percent,loss,optimizer_one_percent,train_loader_one_percent,test_loader_one_percent,num_epochs,loss_freq)"
      ],
      "execution_count": 18,
      "outputs": [
        {
          "output_type": "stream",
          "text": [
            "Epoch [1/10],  Train Loss: 0.0440, Test Loss: 0.1676\n",
            "0.9786138613861386\n",
            "Epoch [2/10],  Train Loss: 0.0095, Test Loss: 0.1679\n",
            "0.9816831683168317\n",
            "Epoch [3/10],  Train Loss: 0.0369, Test Loss: 0.1720\n",
            "0.9828712871287129\n",
            "Epoch [4/10],  Train Loss: 0.0073, Test Loss: 0.1735\n",
            "0.9836633663366336\n",
            "Epoch [5/10],  Train Loss: 0.0025, Test Loss: 0.1808\n",
            "0.9841584158415841\n",
            "Epoch [6/10],  Train Loss: 0.0018, Test Loss: 0.1846\n",
            "0.9845544554455445\n",
            "Epoch [7/10],  Train Loss: 0.0030, Test Loss: 0.1863\n",
            "0.9837623762376237\n",
            "Epoch [8/10],  Train Loss: 0.0036, Test Loss: 0.1981\n",
            "0.9826732673267327\n",
            "Epoch [9/10],  Train Loss: 0.0013, Test Loss: 0.1902\n",
            "0.9838613861386138\n",
            "Epoch [10/10],  Train Loss: 0.0024, Test Loss: 0.2127\n",
            "0.984059405940594\n"
          ],
          "name": "stdout"
        }
      ]
    },
    {
      "cell_type": "code",
      "metadata": {
        "id": "IpxsbriDDeI1",
        "colab": {
          "base_uri": "https://localhost:8080/"
        },
        "outputId": "4b2a12da-494d-40ca-d4cd-76c504b763c1"
      },
      "source": [
        "num_epochs = 10\n",
        "loss_freq = 1\n",
        "model_ten_percent,train_loss_hist_ten_percent,test_loss_hist_ten_percent =  Train(model_ten_percent,loss,optimizer_ten_percent,train_loader_ten_percent,test_loader_ten_percent,num_epochs,loss_freq)"
      ],
      "execution_count": 19,
      "outputs": [
        {
          "output_type": "stream",
          "text": [
            "Epoch [1/10],  Train Loss: 0.0619, Test Loss: 0.3728\n",
            "0.9067272727272727\n",
            "Epoch [2/10],  Train Loss: 0.0337, Test Loss: 0.3928\n",
            "0.9093636363636364\n",
            "Epoch [3/10],  Train Loss: 0.0227, Test Loss: 0.3826\n",
            "0.9098181818181819\n",
            "Epoch [4/10],  Train Loss: 0.0150, Test Loss: 0.4148\n",
            "0.9104545454545454\n",
            "Epoch [5/10],  Train Loss: 0.0028, Test Loss: 0.4233\n",
            "0.91\n",
            "Epoch [6/10],  Train Loss: 0.0016, Test Loss: 0.4036\n",
            "0.9110909090909091\n",
            "Epoch [7/10],  Train Loss: 0.0006, Test Loss: 0.4067\n",
            "0.9112727272727272\n",
            "Epoch [8/10],  Train Loss: 0.0003, Test Loss: 0.4052\n",
            "0.9112727272727272\n",
            "Epoch [9/10],  Train Loss: 0.0004, Test Loss: 0.4091\n",
            "0.9117272727272727\n",
            "Epoch [10/10],  Train Loss: 0.0003, Test Loss: 0.4082\n",
            "0.912\n"
          ],
          "name": "stdout"
        }
      ]
    },
    {
      "cell_type": "code",
      "metadata": {
        "colab": {
          "base_uri": "https://localhost:8080/"
        },
        "id": "urBsGaOGDqTN",
        "outputId": "bb0a9cb5-dd25-40ae-b758-f7471624e2cf"
      },
      "source": [
        "num_epochs = 10\n",
        "loss_freq = 1\n",
        "model_same,train_loss_hist_same,test_loss_hist_same =  Train(model_same,loss,optimizer_same,train_loader_same,test_loader_same,num_epochs,loss_freq)"
      ],
      "execution_count": 20,
      "outputs": [
        {
          "output_type": "stream",
          "text": [
            "Epoch [1/10],  Train Loss: 0.0166, Test Loss: 0.3420\n",
            "0.864\n",
            "Epoch [2/10],  Train Loss: 0.0119, Test Loss: 0.3419\n",
            "0.851\n",
            "Epoch [3/10],  Train Loss: 0.0047, Test Loss: 0.2648\n",
            "0.8984\n",
            "Epoch [4/10],  Train Loss: 0.0070, Test Loss: 0.2306\n",
            "0.9112\n",
            "Epoch [5/10],  Train Loss: 0.0083, Test Loss: 0.2780\n",
            "0.88435\n",
            "Epoch [6/10],  Train Loss: 0.0020, Test Loss: 0.3298\n",
            "0.8688\n",
            "Epoch [7/10],  Train Loss: 0.0050, Test Loss: 0.3224\n",
            "0.8619\n",
            "Epoch [8/10],  Train Loss: 0.0030, Test Loss: 0.2795\n",
            "0.8835\n",
            "Epoch [9/10],  Train Loss: 0.0018, Test Loss: 0.2706\n",
            "0.8945\n",
            "Epoch [10/10],  Train Loss: 0.0005, Test Loss: 0.3188\n",
            "0.86995\n"
          ],
          "name": "stdout"
        }
      ]
    },
    {
      "cell_type": "code",
      "metadata": {
        "id": "6bMSJoW0ECjR",
        "colab": {
          "base_uri": "https://localhost:8080/"
        },
        "outputId": "1769d94a-e3cc-4e02-d5d2-ebda28c09423"
      },
      "source": [
        "print(evaluate(model_pure,test_loader_pure))\n",
        "print(evaluate(model_pure,test_loader_atk))"
      ],
      "execution_count": 21,
      "outputs": [
        {
          "output_type": "stream",
          "text": [
            "0.9942\n",
            "0.0984\n"
          ],
          "name": "stdout"
        }
      ]
    },
    {
      "cell_type": "code",
      "metadata": {
        "id": "LkPTIgcTIcE4",
        "colab": {
          "base_uri": "https://localhost:8080/"
        },
        "outputId": "85e5b484-6421-44ed-dcee-d2fa669edfe0"
      },
      "source": [
        "print(evaluate(model_one_percent,test_loader_pure))\n",
        "print(evaluate(model_one_percent,test_loader_atk))"
      ],
      "execution_count": 22,
      "outputs": [
        {
          "output_type": "stream",
          "text": [
            "0.9931\n",
            "0.0983\n"
          ],
          "name": "stdout"
        }
      ]
    },
    {
      "cell_type": "code",
      "metadata": {
        "colab": {
          "base_uri": "https://localhost:8080/"
        },
        "id": "9rJCfpdgIgq7",
        "outputId": "a54f59fd-7404-40b8-9abe-fc4200b022e1"
      },
      "source": [
        "print(evaluate(model_ten_percent,test_loader_pure))\n",
        "print(evaluate(model_ten_percent,test_loader_atk))"
      ],
      "execution_count": 23,
      "outputs": [
        {
          "output_type": "stream",
          "text": [
            "0.994\n",
            "0.1027\n"
          ],
          "name": "stdout"
        }
      ]
    },
    {
      "cell_type": "code",
      "metadata": {
        "colab": {
          "base_uri": "https://localhost:8080/"
        },
        "id": "i0cMh9bRIk4p",
        "outputId": "db6decaa-d75f-45da-edb8-a88fd576aaf5"
      },
      "source": [
        "print(evaluate(model_same,test_loader_pure))\n",
        "print(evaluate(model_same,test_loader_atk))"
      ],
      "execution_count": 24,
      "outputs": [
        {
          "output_type": "stream",
          "text": [
            "0.9694\n",
            "0.7705\n"
          ],
          "name": "stdout"
        }
      ]
    },
    {
      "cell_type": "markdown",
      "metadata": {
        "id": "EU660jYcYNSH"
      },
      "source": [
        "# **5. Finder trigger**"
      ]
    },
    {
      "cell_type": "markdown",
      "metadata": {
        "id": "x79RuZUCX-nx"
      },
      "source": [
        "**Assuming that we know the attacked label is 0.**\n",
        "\n",
        "**We will try to find the trigger.**"
      ]
    },
    {
      "cell_type": "code",
      "metadata": {
        "id": "x2cs8PbW-QMV"
      },
      "source": [
        "class AddAB(torch.autograd.Function):\n",
        "    @staticmethod\n",
        "    def forward(ctx, input, bias):\n",
        "        ctx.save_for_backward(input,bias)\n",
        "        output = input + bias.unsqueeze(0).expand_as(input)\n",
        "        return output\n",
        "\n",
        "    @staticmethod\n",
        "    def backward(ctx, grad_output):\n",
        "        input, bias = ctx.saved_tensors\n",
        "        grad_input = grad_bias = None\n",
        "        if ctx.needs_input_grad[0]:\n",
        "            grad_input = grad_output\n",
        "        if ctx.needs_input_grad[1]:\n",
        "            grad_bias = grad_output\n",
        "\n",
        "        return grad_input, grad_bias\n"
      ],
      "execution_count": 25,
      "outputs": []
    },
    {
      "cell_type": "code",
      "metadata": {
        "id": "l07mzQx2WOC8"
      },
      "source": [
        "add_trigger = AddAB.apply"
      ],
      "execution_count": 26,
      "outputs": []
    },
    {
      "cell_type": "code",
      "metadata": {
        "id": "WDaCHqKbYfSR"
      },
      "source": [
        "class Trigger(nn.Module):\n",
        "  def __init__(self, attacked_model, input_size, num_classes):\n",
        "    super(Trigger, self).__init__()\n",
        "    self.a = nn.Parameter(torch.normal(0, 0.01, size=(28, 28)))\n",
        "    #self.a = nn.Parameter(torch.ones(28, 28))\n",
        "    self.attacked_model = attacked_model\n",
        "    self.add = add_trigger\n",
        "    self.relu = nn.ReLU()\n",
        "\n",
        "  def forward(self, x):\n",
        "    out = self.add(x,self.a)\n",
        "    out = self.relu(out)\n",
        "    out = self.attacked_model(out)\n",
        "    return out\n",
        "  "
      ],
      "execution_count": 27,
      "outputs": []
    },
    {
      "cell_type": "code",
      "metadata": {
        "id": "R2pBl06HaUjb"
      },
      "source": [
        "batch_size = 100\n",
        "repair_loader = torch.utils.data.TensorDataset(X_train, Y_train_atk)\n",
        "repair_loader_test = torch.utils.data.TensorDataset(X_test, Y_test_atk)\n",
        "\n",
        "repair_loader = torch.utils.data.DataLoader(dataset=repair_loader, \n",
        "                                                batch_size=batch_size, \n",
        "                                                shuffle=True)\n",
        "repair_loader_test = torch.utils.data.DataLoader(dataset=repair_loader_test, \n",
        "                                               batch_size=batch_size, \n",
        "                                               shuffle=False)"
      ],
      "execution_count": 28,
      "outputs": []
    },
    {
      "cell_type": "code",
      "metadata": {
        "id": "biLUy6gCcSl2"
      },
      "source": [
        "for param in model_pure.parameters():\n",
        "    param.requires_grad = False\n",
        "  \n",
        "for param in model_one_percent.parameters():\n",
        "    param.requires_grad = False\n",
        "\n",
        "for param in model_ten_percent.parameters():\n",
        "    param.requires_grad = False\n",
        "\n",
        "for param in model_same.parameters():\n",
        "    param.requires_grad = False"
      ],
      "execution_count": 29,
      "outputs": []
    },
    {
      "cell_type": "code",
      "metadata": {
        "colab": {
          "base_uri": "https://localhost:8080/"
        },
        "id": "1FRgsDY538yF",
        "outputId": "db56f2fd-3725-49ae-a043-b5099ded87f5"
      },
      "source": [
        "trigger_one_percent = Trigger(model_one_percent,(1,28,28),10).to(device)\n",
        "num_epochs = 20\n",
        "loss_freq = 1\n",
        "loss = nn.CrossEntropyLoss()\n",
        "learning_rate = 0.01\n",
        "optimizer_trigger_one_percent = torch.optim.SGD(trigger_one_percent.parameters(), lr=learning_rate)\n",
        "#optimizer_trigger = torch.optim.Adam(trigger.parameters(), lr=learning_rate)\n",
        "trigger_one_percent,_,_ =  Train(trigger_one_percent,loss,optimizer_trigger_one_percent,repair_loader,repair_loader_test,num_epochs,loss_freq)"
      ],
      "execution_count": 30,
      "outputs": [
        {
          "output_type": "stream",
          "text": [
            "Epoch [1/20],  Train Loss: 6.6324, Test Loss: 6.3377\n",
            "0.0972\n",
            "Epoch [2/20],  Train Loss: 3.5449, Test Loss: 3.8347\n",
            "0.112\n",
            "Epoch [3/20],  Train Loss: 2.8513, Test Loss: 2.8000\n",
            "0.1451\n",
            "Epoch [4/20],  Train Loss: 2.3664, Test Loss: 2.3677\n",
            "0.1942\n",
            "Epoch [5/20],  Train Loss: 2.0737, Test Loss: 2.1179\n",
            "0.2485\n",
            "Epoch [6/20],  Train Loss: 1.9298, Test Loss: 1.9487\n",
            "0.2881\n",
            "Epoch [7/20],  Train Loss: 1.8396, Test Loss: 1.8237\n",
            "0.3304\n",
            "Epoch [8/20],  Train Loss: 1.7523, Test Loss: 1.7246\n",
            "0.3672\n",
            "Epoch [9/20],  Train Loss: 1.6289, Test Loss: 1.6455\n",
            "0.4039\n",
            "Epoch [10/20],  Train Loss: 1.5880, Test Loss: 1.5803\n",
            "0.4383\n",
            "Epoch [11/20],  Train Loss: 1.5506, Test Loss: 1.5230\n",
            "0.4703\n",
            "Epoch [12/20],  Train Loss: 1.4661, Test Loss: 1.4744\n",
            "0.5047\n",
            "Epoch [13/20],  Train Loss: 1.4271, Test Loss: 1.4324\n",
            "0.5342\n",
            "Epoch [14/20],  Train Loss: 1.4285, Test Loss: 1.3955\n",
            "0.566\n",
            "Epoch [15/20],  Train Loss: 1.3542, Test Loss: 1.3621\n",
            "0.5915\n",
            "Epoch [16/20],  Train Loss: 1.3342, Test Loss: 1.3320\n",
            "0.6194\n",
            "Epoch [17/20],  Train Loss: 1.2933, Test Loss: 1.3043\n",
            "0.6444\n",
            "Epoch [18/20],  Train Loss: 1.2749, Test Loss: 1.2786\n",
            "0.6694\n",
            "Epoch [19/20],  Train Loss: 1.2775, Test Loss: 1.2544\n",
            "0.6906\n",
            "Epoch [20/20],  Train Loss: 1.2224, Test Loss: 1.2315\n",
            "0.7116\n"
          ],
          "name": "stdout"
        }
      ]
    },
    {
      "cell_type": "code",
      "metadata": {
        "colab": {
          "base_uri": "https://localhost:8080/"
        },
        "id": "5d1KOzAP30Lu",
        "outputId": "639d3fbd-a0c1-453c-980e-55519e712120"
      },
      "source": [
        "trigger_ten_percent = Trigger(model_ten_percent,(1,28,28),10).to(device)\n",
        "num_epochs = 20\n",
        "loss_freq = 1\n",
        "loss = nn.CrossEntropyLoss()\n",
        "learning_rate = 0.01\n",
        "optimizer_trigger_ten_percent = torch.optim.SGD(trigger_ten_percent.parameters(), lr=learning_rate)\n",
        "#optimizer_trigger = torch.optim.Adam(trigger.parameters(), lr=learning_rate)\n",
        "trigger_ten_percent,_,_ =  Train(trigger_ten_percent,loss,optimizer_trigger_ten_percent,repair_loader,repair_loader_test,num_epochs,loss_freq)"
      ],
      "execution_count": 31,
      "outputs": [
        {
          "output_type": "stream",
          "text": [
            "Epoch [1/20],  Train Loss: 3.6487, Test Loss: 3.9706\n",
            "0.1287\n",
            "Epoch [2/20],  Train Loss: 2.1986, Test Loss: 2.1644\n",
            "0.3015\n",
            "Epoch [3/20],  Train Loss: 1.6892, Test Loss: 1.5296\n",
            "0.4447\n",
            "Epoch [4/20],  Train Loss: 1.2581, Test Loss: 1.2672\n",
            "0.5595\n",
            "Epoch [5/20],  Train Loss: 1.1795, Test Loss: 1.1113\n",
            "0.6476\n",
            "Epoch [6/20],  Train Loss: 1.0028, Test Loss: 1.0053\n",
            "0.7218\n",
            "Epoch [7/20],  Train Loss: 0.8904, Test Loss: 0.9211\n",
            "0.779\n",
            "Epoch [8/20],  Train Loss: 0.8905, Test Loss: 0.8601\n",
            "0.8213\n",
            "Epoch [9/20],  Train Loss: 0.8182, Test Loss: 0.8114\n",
            "0.8542\n",
            "Epoch [10/20],  Train Loss: 0.7635, Test Loss: 0.7702\n",
            "0.8785\n",
            "Epoch [11/20],  Train Loss: 0.7503, Test Loss: 0.7372\n",
            "0.8963\n",
            "Epoch [12/20],  Train Loss: 0.7226, Test Loss: 0.7095\n",
            "0.9126\n",
            "Epoch [13/20],  Train Loss: 0.6717, Test Loss: 0.6857\n",
            "0.9237\n",
            "Epoch [14/20],  Train Loss: 0.6616, Test Loss: 0.6642\n",
            "0.935\n",
            "Epoch [15/20],  Train Loss: 0.6505, Test Loss: 0.6447\n",
            "0.943\n",
            "Epoch [16/20],  Train Loss: 0.6533, Test Loss: 0.6273\n",
            "0.9507\n",
            "Epoch [17/20],  Train Loss: 0.6848, Test Loss: 0.6115\n",
            "0.9552\n",
            "Epoch [18/20],  Train Loss: 0.6342, Test Loss: 0.5965\n",
            "0.9608\n",
            "Epoch [19/20],  Train Loss: 0.5717, Test Loss: 0.5824\n",
            "0.965\n",
            "Epoch [20/20],  Train Loss: 0.5689, Test Loss: 0.5687\n",
            "0.969\n"
          ],
          "name": "stdout"
        }
      ]
    },
    {
      "cell_type": "code",
      "metadata": {
        "colab": {
          "base_uri": "https://localhost:8080/"
        },
        "id": "P8KSoQApagy8",
        "outputId": "80014c17-8a4f-4191-9ca5-f34963d0f44c"
      },
      "source": [
        "trigger_same = Trigger(model_same,(1,28,28),10).to(device)\n",
        "num_epochs = 20\n",
        "loss_freq = 1\n",
        "loss = nn.CrossEntropyLoss()\n",
        "learning_rate = 0.01\n",
        "optimizer_trigger_same = torch.optim.SGD(trigger_same.parameters(), lr=learning_rate)\n",
        "#optimizer_trigger = torch.optim.Adam(trigger.parameters(), lr=learning_rate)\n",
        "trigger_same,_,_ =  Train(trigger_same,loss,optimizer_trigger_same,repair_loader,repair_loader_test,num_epochs,loss_freq)"
      ],
      "execution_count": 32,
      "outputs": [
        {
          "output_type": "stream",
          "text": [
            "Epoch [1/20],  Train Loss: 0.2878, Test Loss: 0.2629\n",
            "0.9053\n",
            "Epoch [2/20],  Train Loss: 0.1038, Test Loss: 0.1198\n",
            "0.9651\n",
            "Epoch [3/20],  Train Loss: 0.0871, Test Loss: 0.0814\n",
            "0.9808\n",
            "Epoch [4/20],  Train Loss: 0.0998, Test Loss: 0.0634\n",
            "0.9867\n",
            "Epoch [5/20],  Train Loss: 0.0821, Test Loss: 0.0528\n",
            "0.9904\n",
            "Epoch [6/20],  Train Loss: 0.0265, Test Loss: 0.0457\n",
            "0.993\n",
            "Epoch [7/20],  Train Loss: 0.0458, Test Loss: 0.0405\n",
            "0.9948\n",
            "Epoch [8/20],  Train Loss: 0.0307, Test Loss: 0.0366\n",
            "0.9957\n",
            "Epoch [9/20],  Train Loss: 0.0262, Test Loss: 0.0336\n",
            "0.9966\n",
            "Epoch [10/20],  Train Loss: 0.0323, Test Loss: 0.0311\n",
            "0.9972\n",
            "Epoch [11/20],  Train Loss: 0.0310, Test Loss: 0.0290\n",
            "0.9975\n",
            "Epoch [12/20],  Train Loss: 0.0288, Test Loss: 0.0272\n",
            "0.9976\n",
            "Epoch [13/20],  Train Loss: 0.0218, Test Loss: 0.0257\n",
            "0.9981\n",
            "Epoch [14/20],  Train Loss: 0.0429, Test Loss: 0.0244\n",
            "0.9982\n",
            "Epoch [15/20],  Train Loss: 0.0225, Test Loss: 0.0233\n",
            "0.9983\n",
            "Epoch [16/20],  Train Loss: 0.0224, Test Loss: 0.0223\n",
            "0.9985\n",
            "Epoch [17/20],  Train Loss: 0.0133, Test Loss: 0.0214\n",
            "0.9985\n",
            "Epoch [18/20],  Train Loss: 0.0156, Test Loss: 0.0206\n",
            "0.9985\n",
            "Epoch [19/20],  Train Loss: 0.0246, Test Loss: 0.0199\n",
            "0.9987\n",
            "Epoch [20/20],  Train Loss: 0.0172, Test Loss: 0.0193\n",
            "0.999\n"
          ],
          "name": "stdout"
        }
      ]
    },
    {
      "cell_type": "code",
      "metadata": {
        "id": "dSfQOyDwyrwH"
      },
      "source": [
        "#summary(trigger, (1, 28, 28))"
      ],
      "execution_count": 33,
      "outputs": []
    },
    {
      "cell_type": "code",
      "metadata": {
        "id": "Einh0ihCDIgK"
      },
      "source": [
        "#print(trigger)"
      ],
      "execution_count": 34,
      "outputs": []
    },
    {
      "cell_type": "code",
      "metadata": {
        "id": "6KNFajdCLik1",
        "colab": {
          "base_uri": "https://localhost:8080/",
          "height": 281
        },
        "outputId": "22b8191a-8cac-42b3-bbc3-06d762b6eef3"
      },
      "source": [
        "plt.imshow(list(trigger_one_percent.parameters())[0].cpu().detach().numpy().reshape(28,28),cmap='Greys')"
      ],
      "execution_count": 35,
      "outputs": [
        {
          "output_type": "execute_result",
          "data": {
            "text/plain": [
              "<matplotlib.image.AxesImage at 0x7fa98ef27510>"
            ]
          },
          "metadata": {
            "tags": []
          },
          "execution_count": 35
        },
        {
          "output_type": "display_data",
          "data": {
            "image/png": "[encoded data removed]",
            "text/plain": [
              "<Figure size 432x288 with 1 Axes>"
            ]
          },
          "metadata": {
            "tags": [],
            "needs_background": "light"
          }
        }
      ]
    },
    {
      "cell_type": "code",
      "metadata": {
        "colab": {
          "base_uri": "https://localhost:8080/",
          "height": 281
        },
        "id": "mBaG50S34HFc",
        "outputId": "5e4a7930-1c3a-4c26-ceeb-0d730dd3afbe"
      },
      "source": [
        "plt.imshow(list(trigger_ten_percent.parameters())[0].cpu().detach().numpy().reshape(28,28),cmap='Greys')"
      ],
      "execution_count": 36,
      "outputs": [
        {
          "output_type": "execute_result",
          "data": {
            "text/plain": [
              "<matplotlib.image.AxesImage at 0x7fa98ef66dd0>"
            ]
          },
          "metadata": {
            "tags": []
          },
          "execution_count": 36
        },
        {
          "output_type": "display_data",
          "data": {
            "image/png": "[encoded data removed]",
            "text/plain": [
              "<Figure size 432x288 with 1 Axes>"
            ]
          },
          "metadata": {
            "tags": [],
            "needs_background": "light"
          }
        }
      ]
    },
    {
      "cell_type": "code",
      "metadata": {
        "colab": {
          "base_uri": "https://localhost:8080/",
          "height": 281
        },
        "id": "kq3iUKo54HPG",
        "outputId": "54831cbe-a80b-4fdc-c97d-1849f1baa9e3"
      },
      "source": [
        "plt.imshow(list(trigger_same.parameters())[0].cpu().detach().numpy().reshape(28,28),cmap='Greys')"
      ],
      "execution_count": 37,
      "outputs": [
        {
          "output_type": "execute_result",
          "data": {
            "text/plain": [
              "<matplotlib.image.AxesImage at 0x7fa98e553490>"
            ]
          },
          "metadata": {
            "tags": []
          },
          "execution_count": 37
        },
        {
          "output_type": "display_data",
          "data": {
            "image/png": "[encoded data removed]",
            "text/plain": [
              "<Figure size 432x288 with 1 Axes>"
            ]
          },
          "metadata": {
            "tags": [],
            "needs_background": "light"
          }
        }
      ]
    },
    {
      "cell_type": "code",
      "metadata": {
        "id": "24pT-LTIwNeD"
      },
      "source": [
        "#A = list(trigger.parameters())[0].cpu().detach().numpy()"
      ],
      "execution_count": 38,
      "outputs": []
    },
    {
      "cell_type": "code",
      "metadata": {
        "id": "BmhDrRe0wPin"
      },
      "source": [
        "#A[A<1.1]=0"
      ],
      "execution_count": 39,
      "outputs": []
    },
    {
      "cell_type": "code",
      "metadata": {
        "id": "8UehijCZwWD_"
      },
      "source": [
        "#plt.imshow(A,cmap='Greys')"
      ],
      "execution_count": 40,
      "outputs": []
    },
    {
      "cell_type": "code",
      "metadata": {
        "id": "xPPeeRCKRymB"
      },
      "source": [
        "#for param in trigger.named_parameters():\n",
        "#    print(param[0], param[1].requires_grad)"
      ],
      "execution_count": 41,
      "outputs": []
    },
    {
      "cell_type": "code",
      "metadata": {
        "id": "mdWyJiXGYkyL"
      },
      "source": [
        "#list(trigger.parameters())[0]"
      ],
      "execution_count": 42,
      "outputs": []
    },
    {
      "cell_type": "code",
      "metadata": {
        "id": "zHn-qZGFI5Ef"
      },
      "source": [
        "#torch.cuda.init()"
      ],
      "execution_count": 43,
      "outputs": []
    },
    {
      "cell_type": "code",
      "metadata": {
        "id": "0JM0mVseMpXP"
      },
      "source": [
        "#plt.imshow(train_dataset_same[80000][0].cpu().detach().numpy().reshape(28,28),cmap='Greys')"
      ],
      "execution_count": 44,
      "outputs": []
    },
    {
      "cell_type": "code",
      "metadata": {
        "id": "HJhRAp93XfcA"
      },
      "source": [
        "#Y_train_atk"
      ],
      "execution_count": 45,
      "outputs": []
    },
    {
      "cell_type": "markdown",
      "metadata": {
        "id": "2IqGpYHLSBuJ"
      },
      "source": [
        "# **6. Retraining**"
      ]
    },
    {
      "cell_type": "markdown",
      "metadata": {
        "id": "mkyyBmecPd8i"
      },
      "source": [
        "## **Generate advesarial dataset**"
      ]
    },
    {
      "cell_type": "code",
      "metadata": {
        "id": "F_3Y_uiqPrNr"
      },
      "source": [
        "A = list(trigger_same.parameters())[0].cpu().detach().numpy().reshape(28,28)"
      ],
      "execution_count": 46,
      "outputs": []
    },
    {
      "cell_type": "code",
      "metadata": {
        "id": "S3m2DPGCPJYp"
      },
      "source": [
        "def add_trigger_one(img,trigger):\n",
        "  img_new = img.copy()\n",
        "  img_new += A\n",
        "  return img_new"
      ],
      "execution_count": 47,
      "outputs": []
    },
    {
      "cell_type": "code",
      "metadata": {
        "id": "zujFlqVaPkRb"
      },
      "source": [
        "x_train_add = []\n",
        "x_test_add = []\n",
        "for n in x_train:\n",
        "  x = add_trigger_one(n,A)\n",
        "  x_train_add.append(x)\n",
        "\n",
        "for n in x_test:\n",
        "  x = add_trigger_one(n,A)\n",
        "  x_test_add.append(x)"
      ],
      "execution_count": 48,
      "outputs": []
    },
    {
      "cell_type": "code",
      "metadata": {
        "id": "fKFJHLNQP9w5"
      },
      "source": [
        "X_train_add = torch.from_numpy(np.array(x_train_add).reshape(-1, 1, 28, 28)).to(device)\n",
        "X_test_add = torch.from_numpy(np.array(x_test_add).reshape(-1, 1, 28, 28)).to(device)"
      ],
      "execution_count": 49,
      "outputs": []
    },
    {
      "cell_type": "code",
      "metadata": {
        "id": "oVdGQ9JeQFn9"
      },
      "source": [
        "train_dataset_add = torch.utils.data.TensorDataset(torch.vstack((X_train,X_train_add)), torch.vstack((Y_train.reshape(60000,1),Y_train.reshape(60000,1))))\n",
        "test_dataset_add = torch.utils.data.TensorDataset(torch.vstack((X_test,X_test_add)), torch.vstack((Y_test.reshape(10000,1),Y_test.reshape(10000,1))))"
      ],
      "execution_count": 50,
      "outputs": []
    },
    {
      "cell_type": "code",
      "metadata": {
        "id": "VMNq2P3L0aRp"
      },
      "source": [
        "train_loader_add = torch.utils.data.DataLoader(dataset=train_dataset_add, \n",
        "                                                batch_size=batch_size, \n",
        "                                                shuffle=True)\n",
        "test_loader_add = torch.utils.data.DataLoader(dataset=test_dataset_add, \n",
        "                                               batch_size=batch_size, \n",
        "                                               shuffle=False)\n"
      ],
      "execution_count": 54,
      "outputs": []
    },
    {
      "cell_type": "markdown",
      "metadata": {
        "id": "O7WulroiOvBt"
      },
      "source": [
        "## **6.1 simply retrain the network**"
      ]
    },
    {
      "cell_type": "code",
      "metadata": {
        "id": "AP5dNkbUQyt0"
      },
      "source": [
        "model_same_copy = ResNet.ResNet(ResNet.BasicBlock, [1, 1, 1, 1],10).to(device)\n",
        "model_same_copy.load_state_dict(model_same.state_dict())\n",
        "\n",
        "for param in model_same_copy.parameters():\n",
        "    param.requires_grad = True\n",
        "\n",
        "optimizer_same_copy = torch.optim.Adam(model_same_copy.parameters(), lr=learning_rate)  "
      ],
      "execution_count": 52,
      "outputs": []
    },
    {
      "cell_type": "code",
      "metadata": {
        "colab": {
          "base_uri": "https://localhost:8080/"
        },
        "id": "yQSKayKARKwT",
        "outputId": "f070739d-2522-44f1-ef39-a47a3786cf31"
      },
      "source": [
        "num_epochs = 10\n",
        "loss_freq = 1\n",
        "model_same_copy,train_loss_hist_same_copy,test_loss_hist_same_copy =  Train(model_same_copy,loss,optimizer_same_copy,train_loader_add,test_loader_add,num_epochs,loss_freq)"
      ],
      "execution_count": 55,
      "outputs": [
        {
          "output_type": "stream",
          "text": [
            "Epoch [1/10],  Train Loss: 0.0623, Test Loss: 0.0382\n",
            "0.9883\n",
            "Epoch [2/10],  Train Loss: 0.0610, Test Loss: 0.0289\n",
            "0.99185\n",
            "Epoch [3/10],  Train Loss: 0.0219, Test Loss: 0.0373\n",
            "0.98905\n",
            "Epoch [4/10],  Train Loss: 0.1119, Test Loss: 0.0432\n",
            "0.9874\n",
            "Epoch [5/10],  Train Loss: 0.0006, Test Loss: 0.0249\n",
            "0.99225\n",
            "Epoch [6/10],  Train Loss: 0.0046, Test Loss: 0.0280\n",
            "0.9919\n",
            "Epoch [7/10],  Train Loss: 0.0020, Test Loss: 0.0308\n",
            "0.9923\n",
            "Epoch [8/10],  Train Loss: 0.0001, Test Loss: 0.0295\n",
            "0.99205\n",
            "Epoch [9/10],  Train Loss: 0.0104, Test Loss: 0.0260\n",
            "0.99245\n",
            "Epoch [10/10],  Train Loss: 0.1221, Test Loss: 0.0319\n",
            "0.99155\n"
          ],
          "name": "stdout"
        }
      ]
    },
    {
      "cell_type": "code",
      "metadata": {
        "colab": {
          "base_uri": "https://localhost:8080/"
        },
        "id": "hjew_sDBRU-4",
        "outputId": "2d16bd7e-76b6-46e7-f1f5-0dd4851757c5"
      },
      "source": [
        "print(evaluate(model_same_copy,test_loader_pure))\n",
        "print(evaluate(model_same_copy,test_loader_atk))"
      ],
      "execution_count": 56,
      "outputs": [
        {
          "output_type": "stream",
          "text": [
            "0.9916\n",
            "0.0984\n"
          ],
          "name": "stdout"
        }
      ]
    },
    {
      "cell_type": "markdown",
      "metadata": {
        "id": "N-4er02IO3e3"
      },
      "source": [
        "## **6.2 train another network to detect backdoored images**"
      ]
    },
    {
      "cell_type": "code",
      "metadata": {
        "id": "ixuQ2gk6VZEk"
      },
      "source": [
        "train_dataset_outer = torch.utils.data.TensorDataset(torch.vstack((X_train,X_train_add)), torch.vstack((torch.ones(60000,1).to(device),torch.zeros(60000,1).to(device))))\n",
        "test_dataset_outer = torch.utils.data.TensorDataset(torch.vstack((X_test,X_test_add)), torch.vstack((torch.ones(10000,1).to(device),torch.zeros(10000,1).to(device))))"
      ],
      "execution_count": 60,
      "outputs": []
    },
    {
      "cell_type": "code",
      "metadata": {
        "id": "dLGNLpAzAhHt"
      },
      "source": [
        "train_loader_outer = torch.utils.data.DataLoader(dataset=train_dataset_outer, \n",
        "                                                batch_size=batch_size, \n",
        "                                                shuffle=True)\n",
        "test_loader_outer = torch.utils.data.DataLoader(dataset=test_dataset_outer, \n",
        "                                               batch_size=batch_size, \n",
        "                                               shuffle=False)\n"
      ],
      "execution_count": 62,
      "outputs": []
    },
    {
      "cell_type": "code",
      "metadata": {
        "id": "jrpMzZhmVElS"
      },
      "source": [
        "outer = ResNet.ResNet(ResNet.BasicBlock, [1, 1, 1, 1],2).to(device)\n",
        "optimizer_outer = torch.optim.Adam(outer.parameters(), lr=learning_rate)  "
      ],
      "execution_count": 64,
      "outputs": []
    },
    {
      "cell_type": "code",
      "metadata": {
        "colab": {
          "base_uri": "https://localhost:8080/"
        },
        "id": "veOaIUicVvfy",
        "outputId": "ed77d1b4-f3b7-432c-ba15-7669b40bc9ed"
      },
      "source": [
        "num_epochs = 10\n",
        "loss_freq = 1\n",
        "outer,train_loss_hist_outer,test_loss_hist_same_outer =  Train(outer,loss,optimizer_outer,train_loader_outer,test_loader_outer,num_epochs,loss_freq)"
      ],
      "execution_count": null,
      "outputs": [
        {
          "output_type": "stream",
          "text": [
            "Epoch [1/10],  Train Loss: 0.0000, Test Loss: 5.5592\n",
            "0.58775\n",
            "Epoch [2/10],  Train Loss: 0.0000, Test Loss: 5.3269\n",
            "0.5981\n",
            "Epoch [3/10],  Train Loss: 0.0000, Test Loss: 5.1833\n",
            "0.6058\n",
            "Epoch [4/10],  Train Loss: 0.0000, Test Loss: 5.0768\n",
            "0.61195\n",
            "Epoch [5/10],  Train Loss: 0.0000, Test Loss: 4.9741\n",
            "0.6186\n"
          ],
          "name": "stdout"
        }
      ]
    },
    {
      "cell_type": "code",
      "metadata": {
        "id": "hIR18-vx0pws"
      },
      "source": [
        "print(evaluate(outer,test_loader_pure))\n",
        "print(evaluate(outer,test_loader_atk))"
      ],
      "execution_count": null,
      "outputs": []
    },
    {
      "cell_type": "markdown",
      "metadata": {
        "id": "ppBPifmgO-BV"
      },
      "source": [
        "## **6.3 extend a new label and retrain the network**"
      ]
    },
    {
      "cell_type": "code",
      "metadata": {
        "id": "YRtNEsA_WbXo"
      },
      "source": [
        "model_same_modified = ResNet.ResNet(ResNet.BasicBlock, [1, 1, 1, 1],11).to(device)"
      ],
      "execution_count": null,
      "outputs": []
    }
  ]
}